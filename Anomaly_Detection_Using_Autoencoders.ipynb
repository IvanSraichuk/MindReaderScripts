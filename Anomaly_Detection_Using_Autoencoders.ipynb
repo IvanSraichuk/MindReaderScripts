{
 "cells": [
  {
   "cell_type": "code",
   "execution_count": 2,
   "metadata": {
    "id": "7Np6RCC8nbAJ"
   },
   "outputs": [],
   "source": [
    "import numpy as np\n",
    "import pandas as pd\n",
    "import tensorflow as tf\n",
    "import matplotlib.pyplot as plt\n",
    "from sklearn.metrics import accuracy_score\n",
    "from tensorflow.keras.optimizers import Adam\n",
    "from sklearn.preprocessing import MinMaxScaler\n",
    "from tensorflow.keras import Model, Sequential\n",
    "from tensorflow.keras.layers import Dense, Dropout\n",
    "from sklearn.model_selection import train_test_split\n",
    "from tensorflow.keras.losses import MeanSquaredLogarithmicError\n",
    "import wfdb\n",
    "from wfdb import processing\n",
    "from IPython.display import display\n",
    "from scipy import signal\n",
    "%matplotlib inline"
   ]
  },
  {
   "cell_type": "markdown",
   "metadata": {
    "id": "YL7Kir1Jvwzc"
   },
   "source": [
    "## Load the data"
   ]
  },
  {
   "cell_type": "code",
   "execution_count": 3,
   "metadata": {
    "colab": {
     "base_uri": "https://localhost:8080/",
     "height": 270
    },
    "id": "ATDPsAdxnsr6",
    "outputId": "c5796a79-62ad-4fa8-d86b-6854cf6265d1",
    "scrolled": true
   },
   "outputs": [],
   "source": [
    "# Download the dataset\n",
    "'''\n",
    "PATH_TO_DATA = 'http://storage.googleapis.com/download.tensorflow.org/data/ecg.csv'\n",
    "data = pd.read_csv(PATH_TO_DATA, header=None)\n",
    "print(data.shape)\n",
    "data.head()\n",
    "'''\n",
    "#pd.concat([h, t], axis=0)\n",
    "a = [\n",
    "'04015',\n",
    "'04043',\n",
    "'04048',\n",
    "'04126',\n",
    "'04746',\n",
    "'04908',\n",
    "'04936',\n",
    "'05091',\n",
    "'05121',\n",
    "'05261',\n",
    "'06426',\n",
    "'06453',\n",
    "'06995',\n",
    "'07162',\n",
    "'07859',\n",
    "'07879',\n",
    "]\n",
    "\n",
    "\n",
    "\n",
    "#'07910','08215','08219','08378','08405','08434','08455',\n",
    "\n",
    "all_frames = pd.DataFrame()\n",
    "for record_number in ['05121']:\n",
    "    #record_number = '06995'\n",
    "    filepath = 'D:/phd/mit-bih-atrial-fibrillation-database-1.0.0/files/' + record_number\n",
    "    record = wfdb.rdrecord(filepath)#, sampto = 10000)\n",
    "    ann = wfdb.rdann(filepath,'atr')\n",
    "    sig = record.p_signal[:,0]\n",
    "    sig_peaks, _ = processing.find_peaks(sig)\n",
    "    Rpeaks = []\n",
    "    for i in sig_peaks:\n",
    "        if sig[i] > 0.25:\n",
    "            Rpeaks.append(i)\n",
    "    s = []\n",
    "    annIndexes = []\n",
    "    for i in range(len(sig_peaks)):\n",
    "        val = sig_peaks[i]\n",
    "        if val < 100:\n",
    "            continue\n",
    "        for j in ann.sample:\n",
    "            if val-100 < j and val + 100 > j:\n",
    "                annIndexes.append(i)\n",
    "                s.append(record.p_signal[val -100:val + 100,0])\n",
    "                break\n",
    "    \n",
    "    s = []\n",
    "    for i in range(0, len(sig), 140):\n",
    "        if i+140 > len(sig):\n",
    "            break\n",
    "        s.append(sig[i:i+140])\n",
    "    data = pd.DataFrame(s)\n",
    "    b = ann.sample / 140\n",
    "    ind = []\n",
    "    for i in b:\n",
    "        ind.append(int(i))\n",
    "    data[140] = 1    \n",
    "    #df.loc[df['A'] > 2, 'B'] = new_val\n",
    "    #data[140][ind] = 0\n",
    "    data.loc[ind, 140] = 0\n",
    "    all_frames = pd.concat([all_frames, data], axis=0, ignore_index=True)\n",
    "data = all_frames\n"
   ]
  },
  {
   "cell_type": "code",
   "execution_count": 4,
   "metadata": {},
   "outputs": [],
   "source": [
    "def R_correction(signal, peaks):\n",
    "    num_peak=peaks.shape[0]\n",
    "    peaks_corrected_list=list()\n",
    "    for index in range(num_peak):\n",
    "        i=peaks[index]\n",
    "        cnt=i\n",
    "        if cnt-1<0:\n",
    "            break\n",
    "        if signal[cnt]<signal[cnt-1]:\n",
    "            while signal[cnt]<signal[cnt-1]:\n",
    "                cnt-=1\n",
    "                if cnt<0:\n",
    "                    break\n",
    "        elif signal[cnt]<signal[cnt+1]:\n",
    "            while signal[cnt]<signal[cnt+1]:\n",
    "                cnt+=1\n",
    "                if cnt<0:\n",
    "                    break\n",
    "        peaks_corrected_list.append(cnt)\n",
    "    peaks_corrected=np.asarray(peaks_corrected_list)            \n",
    "    return peaks_corrected "
   ]
  },
  {
   "cell_type": "code",
   "execution_count": 5,
   "metadata": {},
   "outputs": [
    {
     "data": {
      "text/plain": [
       "[<matplotlib.lines.Line2D at 0x1d1800c9d30>]"
      ]
     },
     "execution_count": 5,
     "metadata": {},
     "output_type": "execute_result"
    },
    {
     "data": {
      "image/png": "[encoded data removed]",
      "text/plain": [
       "<Figure size 432x288 with 1 Axes>"
      ]
     },
     "metadata": {
      "needs_background": "light"
     },
     "output_type": "display_data"
    }
   ],
   "source": [
    "#!pip install py-ecg-detectors\n",
    "from ecgdetectors import Detectors\n",
    "import pandas as pd\n",
    "fs=100 # sample freq\n",
    "p = sig[:1000]\n",
    "detectors = Detectors(250)\n",
    "\n",
    "r_peaks_pan = detectors.pan_tompkins_detector(p)\n",
    "r_peaks_pan= np.asarray(r_peaks_pan)\n",
    "\n",
    "#plt.plot(p)\n",
    "#plt.plot(r_peaks_pan,p[r_peaks_pan], 'ro')\n",
    "corrected_R_peak=R_correction(p,r_peaks_pan)\n",
    "plt.plot(p)\n",
    "plt.plot(corrected_R_peak,p[corrected_R_peak], 'ro')"
   ]
  },
  {
   "cell_type": "code",
   "execution_count": 6,
   "metadata": {},
   "outputs": [
    {
     "name": "stdout",
     "output_type": "stream",
     "text": [
      "A1\n",
      "A2\n"
     ]
    },
    {
     "data": {
      "image/png": "[encoded data removed]",
      "text/plain": [
       "<Figure size 1008x576 with 1 Axes>"
      ]
     },
     "metadata": {
      "needs_background": "light"
     },
     "output_type": "display_data"
    },
    {
     "name": "stdout",
     "output_type": "stream",
     "text": [
      "2162653 2162708 12000\n",
      "2162752 2162708 12001\n",
      "2163507 2163556 12010\n",
      "2163601 2163556 12011\n",
      "4057893 4057942 23910\n",
      "4057994 4057942 23911\n",
      "4061927 4062020 23943\n",
      "4062116 4062020 23944\n",
      "4387350 4387405 25952\n",
      "4387461 4387405 25953\n",
      "5497090 5497141 32800\n",
      "5497192 5497141 32801\n",
      "5500873 5500961 32856\n",
      "5501048 5500961 32857\n",
      "5585969 5586022 33519\n",
      "5586074 5586022 33520\n",
      "5593042 5593100 33589\n",
      "5593153 5593100 33590\n",
      "5707625 5707701 34506\n",
      "5707778 5707701 34507\n",
      "5764350 5764404 34927\n",
      "5764460 5764404 34928\n",
      "5766155 5766060 34942\n",
      "6484647 6484710 39425\n",
      "6484775 6484710 39426\n",
      "6598247 6598300 40255\n",
      "6598354 6598300 40256\n",
      "7405243 7405319 44732\n",
      "7405397 7405319 44733\n",
      "7406447 7406544 44742\n",
      "7406643 7406544 44743\n",
      "A3\n"
     ]
    }
   ],
   "source": [
    "a = [\n",
    "'04015',\n",
    "'04043',\n",
    "'04048',\n",
    "'04126',\n",
    "'04746',\n",
    "'04908',\n",
    "'04936',\n",
    "'05091',\n",
    "'05121',\n",
    "'05261',\n",
    "'06426',\n",
    "'06453',\n",
    "'06995',\n",
    "'07162',\n",
    "'07859',\n",
    "'07879',\n",
    "]\n",
    "\n",
    "\n",
    "\n",
    "#'07910','08215','08219','08378','08405','08434','08455',\n",
    "\n",
    "all_frames = pd.DataFrame()\n",
    "for record_number in ['05261']:\n",
    "    #record_number = '06995'\n",
    "    filepath = 'D:/phd/mit-bih-atrial-fibrillation-database-1.0.0/files/' + record_number\n",
    "    record = wfdb.rdrecord(filepath)#, sampto = 10000)\n",
    "    ann = wfdb.rdann(filepath,'atr')\n",
    "    sig = record.p_signal[:,0]\n",
    "    print('A1')\n",
    "    sig_peaks, _ = signal.find_peaks(sig)\n",
    "    Rpeaks = []\n",
    "    print('A2')\n",
    "    for i in sig_peaks:\n",
    "        if sig[i] > 1.0:\n",
    "            Rpeaks.append(i)\n",
    "    plt.figure(figsize=(14,8))\n",
    "    plt.plot(sig)\n",
    "    #plt.plot(t, sign[t], \"*\")\n",
    "    plt.plot(Rpeaks, sig[Rpeaks], '*')\n",
    "    plt.show()\n",
    "    s = []\n",
    "    annIndexes = []\n",
    "    for i in range(len(Rpeaks)):\n",
    "        val = Rpeaks[i]\n",
    "        if val < 100:\n",
    "            continue\n",
    "        s.append(record.p_signal[val-100: val+100,0])\n",
    "        for j in ann.sample:\n",
    "            if val-100 < j and val + 100 > j:\n",
    "                annIndexes.append(len(s) - 1)\n",
    "                print(val, j, i)\n",
    "                break\n",
    "    data = pd.DataFrame(s)\n",
    "    print('A3')\n",
    "    data[200] = 1    \n",
    "    #df.loc[df['A'] > 2, 'B'] = new_val\n",
    "    #data[140][ind] = 0\n",
    "    data.loc[annIndexes, 200] = 0\n",
    "    all_frames = pd.concat([all_frames, data], axis=0, ignore_index=True)\n",
    "data = all_frames"
   ]
  },
  {
   "cell_type": "code",
   "execution_count": 7,
   "metadata": {},
   "outputs": [
    {
     "data": {
      "text/plain": [
       "31"
      ]
     },
     "execution_count": 7,
     "metadata": {},
     "output_type": "execute_result"
    }
   ],
   "source": [
    "len(annIndexes)"
   ]
  },
  {
   "cell_type": "markdown",
   "metadata": {
    "id": "sV6KUkRgvoOK"
   },
   "source": [
    "## Split the data for training and testing"
   ]
  },
  {
   "cell_type": "code",
   "execution_count": 8,
   "metadata": {
    "id": "OTEDLRtA4I9k"
   },
   "outputs": [],
   "source": [
    "# last column is the target\n",
    "# 0 = anomaly, 1 = normal\n",
    "TARGET = 200\n",
    "\n",
    "features = data.drop(TARGET, axis=1)\n",
    "target = data[TARGET]\n",
    "\n",
    "x_train, x_test, y_train, y_test = train_test_split(\n",
    "    features, target, test_size=0.2, stratify=target\n",
    ")"
   ]
  },
  {
   "cell_type": "code",
   "execution_count": 9,
   "metadata": {
    "id": "2mjzHNYjLviR"
   },
   "outputs": [],
   "source": [
    "# use case is novelty detection so use only the normal data\n",
    "# for training\n",
    "train_index = y_train[y_train == 1].index\n",
    "train_data = x_train.loc[train_index]"
   ]
  },
  {
   "cell_type": "markdown",
   "metadata": {
    "id": "mfk5mwbhv03v"
   },
   "source": [
    "## Scale the data using MinMaxScaler"
   ]
  },
  {
   "cell_type": "code",
   "execution_count": 10,
   "metadata": {
    "id": "cmJhTiuBts4F"
   },
   "outputs": [],
   "source": [
    "min_max_scaler = MinMaxScaler(feature_range=(0, 1))\n",
    "x_train_scaled = min_max_scaler.fit_transform(train_data.copy())\n",
    "x_test_scaled = min_max_scaler.transform(x_test.copy())"
   ]
  },
  {
   "cell_type": "markdown",
   "metadata": {
    "id": "AFLk9eJrwqvl"
   },
   "source": [
    "## Build an AutoEncoder model"
   ]
  },
  {
   "cell_type": "code",
   "execution_count": 11,
   "metadata": {
    "id": "N9VmLu89uPIY"
   },
   "outputs": [],
   "source": [
    "# create a model by subclassing Model class in tensorflow\n",
    "class AutoEncoder(Model):\n",
    "  \"\"\"\n",
    "  Parameters\n",
    "  ----------\n",
    "  output_units: int\n",
    "    Number of output units\n",
    "  \n",
    "  code_size: int\n",
    "    Number of units in bottle neck\n",
    "  \"\"\"\n",
    "\n",
    "  def __init__(self, output_units, code_size=8):\n",
    "    super().__init__()\n",
    "    self.encoder = Sequential([\n",
    "      Dense(64, activation='relu'),\n",
    "      Dropout(0.1),\n",
    "      Dense(32, activation='relu'),\n",
    "      Dropout(0.1),\n",
    "      Dense(16, activation='relu'),\n",
    "      Dropout(0.1),\n",
    "      Dense(code_size, activation='relu')\n",
    "    ])\n",
    "    self.decoder = Sequential([\n",
    "      Dense(16, activation='relu'),\n",
    "      Dropout(0.1),\n",
    "      Dense(32, activation='relu'),\n",
    "      Dropout(0.1),\n",
    "      Dense(64, activation='relu'),\n",
    "      Dropout(0.1),\n",
    "      Dense(output_units, activation='sigmoid')\n",
    "    ])\n",
    "  \n",
    "  def call(self, inputs):\n",
    "    encoded = self.encoder(inputs)\n",
    "    decoded = self.decoder(encoded)\n",
    "    return decoded"
   ]
  },
  {
   "cell_type": "code",
   "execution_count": 12,
   "metadata": {
    "colab": {
     "base_uri": "https://localhost:8080/"
    },
    "id": "-oylLrsQuPD5",
    "outputId": "9e8b92a5-2507-4f5e-a9a1-33c398d36a70"
   },
   "outputs": [
    {
     "name": "stdout",
     "output_type": "stream",
     "text": [
      "Epoch 1/20\n",
      "88/88 [==============================] - 2s 9ms/step - loss: nan - mse: nan - val_loss: nan - val_mse: nan\n",
      "Epoch 2/20\n",
      "88/88 [==============================] - 1s 7ms/step - loss: nan - mse: nan - val_loss: nan - val_mse: nan\n",
      "Epoch 3/20\n",
      "88/88 [==============================] - 1s 7ms/step - loss: nan - mse: nan - val_loss: nan - val_mse: nan\n",
      "Epoch 4/20\n",
      "88/88 [==============================] - 1s 7ms/step - loss: nan - mse: nan - val_loss: nan - val_mse: nan\n",
      "Epoch 5/20\n",
      "88/88 [==============================] - 1s 7ms/step - loss: nan - mse: nan - val_loss: nan - val_mse: nan\n",
      "Epoch 6/20\n",
      "88/88 [==============================] - 1s 7ms/step - loss: nan - mse: nan - val_loss: nan - val_mse: nan\n",
      "Epoch 7/20\n",
      "88/88 [==============================] - 1s 7ms/step - loss: nan - mse: nan - val_loss: nan - val_mse: nan\n",
      "Epoch 8/20\n",
      "88/88 [==============================] - 1s 7ms/step - loss: nan - mse: nan - val_loss: nan - val_mse: nan\n",
      "Epoch 9/20\n",
      "88/88 [==============================] - 1s 7ms/step - loss: nan - mse: nan - val_loss: nan - val_mse: nan\n",
      "Epoch 10/20\n",
      "88/88 [==============================] - 1s 6ms/step - loss: nan - mse: nan - val_loss: nan - val_mse: nan\n",
      "Epoch 11/20\n",
      "88/88 [==============================] - 1s 7ms/step - loss: nan - mse: nan - val_loss: nan - val_mse: nan\n",
      "Epoch 12/20\n",
      "88/88 [==============================] - 1s 7ms/step - loss: nan - mse: nan - val_loss: nan - val_mse: nan\n",
      "Epoch 13/20\n",
      "88/88 [==============================] - 1s 7ms/step - loss: nan - mse: nan - val_loss: nan - val_mse: nan\n",
      "Epoch 14/20\n",
      "88/88 [==============================] - 1s 7ms/step - loss: nan - mse: nan - val_loss: nan - val_mse: nan\n",
      "Epoch 15/20\n",
      "88/88 [==============================] - 1s 7ms/step - loss: nan - mse: nan - val_loss: nan - val_mse: nan\n",
      "Epoch 16/20\n",
      "88/88 [==============================] - 1s 7ms/step - loss: nan - mse: nan - val_loss: nan - val_mse: nan\n",
      "Epoch 17/20\n",
      "88/88 [==============================] - 1s 7ms/step - loss: nan - mse: nan - val_loss: nan - val_mse: nan\n",
      "Epoch 18/20\n",
      "88/88 [==============================] - 1s 7ms/step - loss: nan - mse: nan - val_loss: nan - val_mse: nan\n",
      "Epoch 19/20\n",
      "88/88 [==============================] - 1s 7ms/step - loss: nan - mse: nan - val_loss: nan - val_mse: nan\n",
      "Epoch 20/20\n",
      "88/88 [==============================] - 1s 7ms/step - loss: nan - mse: nan - val_loss: nan - val_mse: nan\n"
     ]
    }
   ],
   "source": [
    "model = AutoEncoder(output_units=x_train_scaled.shape[1])\n",
    "# configurations of model\n",
    "model.compile(loss='msle', metrics=['mse'], optimizer='adam')\n",
    "\n",
    "history = model.fit(\n",
    "    x_train_scaled,\n",
    "    x_train_scaled,\n",
    "    epochs=20,\n",
    "    batch_size=512,\n",
    "    validation_data=(x_test_scaled, x_test_scaled)\n",
    ")"
   ]
  },
  {
   "cell_type": "markdown",
   "metadata": {
    "id": "DCD6ykuG6wvV"
   },
   "source": [
    "## Plot history"
   ]
  },
  {
   "cell_type": "code",
   "execution_count": 13,
   "metadata": {
    "colab": {
     "base_uri": "https://localhost:8080/",
     "height": 281
    },
    "id": "ohEpArnj6NMG",
    "outputId": "9e513350-cbc3-4602-ddc6-7e8104302d2a"
   },
   "outputs": [
    {
     "data": {
      "image/png": "[encoded data removed]",
      "text/plain": [
       "<Figure size 432x288 with 1 Axes>"
      ]
     },
     "metadata": {
      "needs_background": "light"
     },
     "output_type": "display_data"
    }
   ],
   "source": [
    "plt.plot(history.history['loss'])\n",
    "plt.plot(history.history['val_loss'])\n",
    "plt.xlabel('Epochs')\n",
    "plt.ylabel('MSLE Loss')\n",
    "plt.legend(['loss', 'val_loss'])\n",
    "plt.show()"
   ]
  },
  {
   "cell_type": "markdown",
   "metadata": {
    "id": "OPNtOnsENWwc"
   },
   "source": [
    "## Find threshold"
   ]
  },
  {
   "cell_type": "code",
   "execution_count": 14,
   "metadata": {
    "id": "ACFZcFWEFNpQ"
   },
   "outputs": [],
   "source": [
    "def find_threshold(model, x_train_scaled):\n",
    "  reconstructions = model.predict(x_train_scaled)\n",
    "  # provides losses of individual instances\n",
    "  reconstruction_errors = tf.keras.losses.msle(reconstructions, x_train_scaled)\n",
    "\n",
    "  # threshold for anomaly scores\n",
    "  threshold = np.mean(reconstruction_errors.numpy()) \\\n",
    "      + np.std(reconstruction_errors.numpy())\n",
    "  return threshold\n",
    "\n",
    "def find_threshold_method_two(model, x_train_scaled):\n",
    "  # another method to find threshold\n",
    "  reconstructions = model.predict(x_train_scaled)\n",
    "  # provides losses of individual instances\n",
    "  reconstruction_errors = tf.keras.losses.msle(reconstructions, x_train_scaled)\n",
    "\n",
    "  threshold_2 = np.percentile(reconstruction_errors, 95)\n",
    "  return threshold_2\n",
    "\n",
    "def get_predictions(model, x_test_scaled, threshold):\n",
    "  predictions = model.predict(x_test_scaled)\n",
    "  # provides losses of individual instances\n",
    "  errors = tf.keras.losses.msle(predictions, x_test_scaled)\n",
    "  # 0 = anomaly, 1 = normal\n",
    "  anomaly_mask = pd.Series(errors) > threshold\n",
    "  preds = anomaly_mask.map(lambda x: 0.0 if x == True else 1.0)\n",
    "  return preds\n",
    "\n",
    "def get_mask(model, x_test_scaled, threshold):\n",
    "  predictions = model.predict(x_test_scaled)\n",
    "  # provides losses of individual instances\n",
    "  errors = tf.keras.losses.msle(predictions, x_test_scaled)\n",
    "  # 0 = anomaly, 1 = normal\n",
    "  anomaly_mask = pd.Series(errors) > threshold\n",
    "  return errors"
   ]
  },
  {
   "cell_type": "code",
   "execution_count": 15,
   "metadata": {
    "colab": {
     "base_uri": "https://localhost:8080/"
    },
    "id": "W4Mxr7cnHPk-",
    "outputId": "44e0954e-fa48-47ed-e0bb-9276cb67aa5d"
   },
   "outputs": [
    {
     "name": "stdout",
     "output_type": "stream",
     "text": [
      "1404/1404 [==============================] - 1s 996us/step\n",
      "Threshold method one: nan\n",
      "1404/1404 [==============================] - 1s 922us/step\n",
      "Threshold method two: nan\n"
     ]
    }
   ],
   "source": [
    "threshold = find_threshold(model, x_train_scaled)\n",
    "print(f\"Threshold method one: {threshold}\")\n",
    "\n",
    "threshold_2 = find_threshold_method_two(model, x_train_scaled)\n",
    "print(f\"Threshold method two: {threshold_2}\")"
   ]
  },
  {
   "cell_type": "code",
   "execution_count": 16,
   "metadata": {
    "colab": {
     "base_uri": "https://localhost:8080/"
    },
    "id": "Bl0Op0GNHVDD",
    "outputId": "81efd337-cd8e-47e0-e4ca-d0e19c1ef2e1"
   },
   "outputs": [
    {
     "name": "stdout",
     "output_type": "stream",
     "text": [
      "351/351 [==============================] - 0s 979us/step\n"
     ]
    },
    {
     "data": {
      "text/plain": [
       "0.999465811965812"
      ]
     },
     "execution_count": 16,
     "metadata": {},
     "output_type": "execute_result"
    }
   ],
   "source": [
    "preds = get_predictions(model, x_test_scaled, threshold)\n",
    "accuracy_score(preds, y_test)"
   ]
  },
  {
   "cell_type": "code",
   "execution_count": 17,
   "metadata": {},
   "outputs": [
    {
     "name": "stdout",
     "output_type": "stream",
     "text": [
      "1755/1755 [==============================] - 2s 1ms/step\n",
      "1755/1755 [==============================] - 2s 1ms/step\n"
     ]
    },
    {
     "data": {
      "text/plain": [
       "1.0    56160\n",
       "dtype: int64"
      ]
     },
     "execution_count": 17,
     "metadata": {},
     "output_type": "execute_result"
    }
   ],
   "source": [
    "ti = target[target == 0].index\n",
    "dt = features\n",
    "dt_scaled = min_max_scaler.fit_transform(dt.copy())\n",
    "coef = 0.2\n",
    "ans = get_predictions(model, dt_scaled, threshold)\n",
    "ans2 = get_predictions(model, dt_scaled, threshold_2 * coef)\n",
    "ans.value_counts()"
   ]
  },
  {
   "cell_type": "code",
   "execution_count": 18,
   "metadata": {
    "scrolled": true
   },
   "outputs": [
    {
     "ename": "NameError",
     "evalue": "name 'plot_confusion_matrix' is not defined",
     "output_type": "error",
     "traceback": [
      "\u001b[1;31m---------------------------------------------------------------------------\u001b[0m",
      "\u001b[1;31mNameError\u001b[0m                                 Traceback (most recent call last)",
      "Input \u001b[1;32mIn [18]\u001b[0m, in \u001b[0;36m<cell line: 2>\u001b[1;34m()\u001b[0m\n\u001b[0;32m      1\u001b[0m \u001b[38;5;66;03m# Evaluate by means of a confusion matrix\u001b[39;00m\n\u001b[1;32m----> 2\u001b[0m matrix \u001b[38;5;241m=\u001b[39m \u001b[43mplot_confusion_matrix\u001b[49m(svm, X_test, y_test,\n\u001b[0;32m      3\u001b[0m                                  cmap\u001b[38;5;241m=\u001b[39mplt\u001b[38;5;241m.\u001b[39mcm\u001b[38;5;241m.\u001b[39mBlues,\n\u001b[0;32m      4\u001b[0m                                  normalize\u001b[38;5;241m=\u001b[39m\u001b[38;5;124m'\u001b[39m\u001b[38;5;124mtrue\u001b[39m\u001b[38;5;124m'\u001b[39m)\n\u001b[0;32m      5\u001b[0m plt\u001b[38;5;241m.\u001b[39mtitle(\u001b[38;5;124m'\u001b[39m\u001b[38;5;124mConfusion matrix for RBF SVM\u001b[39m\u001b[38;5;124m'\u001b[39m)\n\u001b[0;32m      6\u001b[0m plt\u001b[38;5;241m.\u001b[39mshow(matrix)\n",
      "\u001b[1;31mNameError\u001b[0m: name 'plot_confusion_matrix' is not defined"
     ]
    }
   ],
   "source": [
    "# Evaluate by means of a confusion matrix\n",
    "matrix = plot_confusion_matrix(svm, X_test, y_test,\n",
    "                                 cmap=plt.cm.Blues,\n",
    "                                 normalize='true')\n",
    "plt.title('Confusion matrix for RBF SVM')\n",
    "plt.show(matrix)\n",
    "plt.show()"
   ]
  },
  {
   "cell_type": "code",
   "execution_count": null,
   "metadata": {},
   "outputs": [],
   "source": [
    "def calculateAcc(target, ans):\n",
    "    ans_arr = np.zeros(len(data[140]))\n",
    "    m = np.zeros((2,2))\n",
    "    #ans_arr\n",
    "    for i in range(len(target)):\n",
    "        if target.iloc[i] == ans[i] and ans[i] == 0:\n",
    "            m[0][0] +=1\n",
    "        if target.iloc[i] == ans[i] and ans[i] == 1:\n",
    "            m[1][1] +=1\n",
    "        if target.iloc[i] != ans[i] and ans[i] == 0:\n",
    "            m[0][1] +=1\n",
    "        if target.iloc[i] != ans[i] and ans[i] == 1:\n",
    "            m[1][0] +=1\n",
    "\n",
    "        if target.iloc[i] == ans[i]:\n",
    "            ans_arr[i] = 1\n",
    "    print(sum(ans_arr)/len(ans_arr))\n",
    "    return m\n",
    "m = calculateAcc(target, ans)\n",
    "m2 = calculateAcc(target, ans2)"
   ]
  },
  {
   "cell_type": "code",
   "execution_count": null,
   "metadata": {},
   "outputs": [],
   "source": [
    "m[0][0]/(m[0][0] + m[0][1])"
   ]
  },
  {
   "cell_type": "code",
   "execution_count": null,
   "metadata": {
    "scrolled": false
   },
   "outputs": [],
   "source": [
    "m[1][1]/(m[1][0] + m[1][1])"
   ]
  },
  {
   "cell_type": "code",
   "execution_count": null,
   "metadata": {},
   "outputs": [],
   "source": [
    "print(m[0][0], \" \", m[0][1], '\\n', m[1][0], m[1][1], sep = '')"
   ]
  },
  {
   "cell_type": "code",
   "execution_count": 130,
   "metadata": {},
   "outputs": [
    {
     "name": "stdout",
     "output_type": "stream",
     "text": [
      "20.0   34631.0 \n",
      " 22.0 31082.0\n"
     ]
    }
   ],
   "source": [
    "print(m2[0][0], \" \", m2[0][1], '\\n', m2[1][0], m2[1][1])"
   ]
  },
  {
   "cell_type": "code",
   "execution_count": 293,
   "metadata": {},
   "outputs": [],
   "source": [
    "t1 = target[target == 0].index.to_numpy()\n",
    "t2 = ans[ans == 0].index.to_numpy()"
   ]
  },
  {
   "cell_type": "code",
   "execution_count": 23,
   "metadata": {},
   "outputs": [
    {
     "name": "stdout",
     "output_type": "stream",
     "text": [
      "0 0 1.0\n",
      "732 0 1.0\n",
      "854 0 1.0\n",
      "869 0 1.0\n",
      "872 0 1.0\n",
      "952 0 1.0\n",
      "1191 0 1.0\n",
      "7830 0 1.0\n",
      "7843 0 1.0\n",
      "8109 0 1.0\n",
      "8139 0 1.0\n",
      "10160 0 1.0\n",
      "10168 0 1.0\n",
      "10423 0 1.0\n",
      "10431 0 1.0\n",
      "65755 0 1.0\n",
      "67658 0 1.0\n",
      "68443 0 1.0\n",
      "84221 0 1.0\n",
      "84344 0 1.0\n",
      "84575 0 1.0\n",
      "85325 0 1.0\n",
      "85363 0 1.0\n",
      "85609 0 1.0\n",
      "86003 0 1.0\n",
      "86053 0 1.0\n",
      "88035 0 1.0\n",
      "88052 0 1.0\n",
      "89501 0 1.0\n",
      "89699 0 1.0\n",
      "91520 0 1.0\n",
      "91737 0 1.0\n",
      "91938 0 1.0\n",
      "92045 0 1.0\n",
      "92114 0 1.0\n",
      "92233 0 1.0\n",
      "92286 0 1.0\n",
      "92393 0 1.0\n",
      "92597 0 1.0\n",
      "93256 0 1.0\n",
      "93357 0 1.0\n",
      "93484 0 1.0\n",
      "93697 0 1.0\n",
      "93895 0 1.0\n",
      "93950 0 1.0\n",
      "94274 0 1.0\n",
      "94347 0 1.0\n",
      "94805 0 1.0\n",
      "95045 0 1.0\n",
      "95293 0 1.0\n",
      "95359 0 1.0\n",
      "95614 0 1.0\n",
      "95641 0 1.0\n",
      "95806 0 1.0\n",
      "95876 0 1.0\n",
      "95987 0 1.0\n",
      "97163 0 1.0\n",
      "97395 0 1.0\n",
      "97676 0 1.0\n",
      "97720 0 1.0\n",
      "97789 0 1.0\n",
      "97958 0 1.0\n",
      "98092 0 1.0\n",
      "98268 0 1.0\n",
      "98416 0 1.0\n",
      "98631 0 1.0\n",
      "98805 0 1.0\n",
      "98876 0 1.0\n",
      "98972 0 1.0\n",
      "99327 0 1.0\n",
      "100371 0 1.0\n",
      "100462 0 1.0\n",
      "101308 0 1.0\n",
      "101482 0 1.0\n",
      "101650 0 1.0\n",
      "101807 0 1.0\n",
      "101929 0 1.0\n",
      "102014 0 1.0\n",
      "102135 0 1.0\n",
      "102222 0 1.0\n",
      "102343 0 1.0\n",
      "102441 0 1.0\n",
      "102495 0 1.0\n",
      "102558 0 1.0\n",
      "103063 0 1.0\n",
      "103166 0 1.0\n",
      "103225 0 1.0\n",
      "103316 0 1.0\n",
      "103391 0 1.0\n",
      "103686 0 1.0\n",
      "103817 0 1.0\n",
      "104206 0 1.0\n",
      "104415 0 1.0\n",
      "104660 0 1.0\n",
      "104910 0 1.0\n",
      "105072 0 1.0\n",
      "105172 0 1.0\n",
      "105297 0 1.0\n",
      "105468 0 1.0\n",
      "105583 0 1.0\n",
      "105699 0 1.0\n",
      "105991 0 1.0\n",
      "106243 0 1.0\n",
      "106365 0 1.0\n",
      "106563 0 1.0\n",
      "106611 0 1.0\n",
      "106804 0 1.0\n",
      "107003 0 1.0\n",
      "107164 0 1.0\n",
      "107347 0 1.0\n",
      "107606 0 1.0\n",
      "107656 0 1.0\n",
      "107838 0 1.0\n",
      "108124 0 1.0\n",
      "109537 0 1.0\n",
      "109628 0 1.0\n",
      "109811 0 1.0\n",
      "110043 0 1.0\n",
      "110433 0 1.0\n",
      "110568 0 1.0\n",
      "111317 0 1.0\n",
      "111502 0 1.0\n",
      "112401 0 1.0\n",
      "112456 0 1.0\n",
      "112628 0 1.0\n",
      "112718 0 1.0\n",
      "113476 0 1.0\n",
      "113622 0 1.0\n",
      "113964 0 1.0\n",
      "114059 0 1.0\n",
      "114279 0 1.0\n",
      "114301 0 1.0\n",
      "116350 0 1.0\n",
      "116468 0 1.0\n",
      "117199 0 1.0\n",
      "117569 0 1.0\n",
      "117989 0 1.0\n",
      "118169 0 1.0\n",
      "118875 0 1.0\n",
      "118971 0 1.0\n",
      "119123 0 1.0\n",
      "119165 0 1.0\n",
      "119411 0 1.0\n",
      "119430 0 1.0\n",
      "119597 0 1.0\n",
      "119723 0 1.0\n",
      "120077 0 1.0\n",
      "120197 0 1.0\n",
      "120465 0 1.0\n",
      "120534 0 1.0\n",
      "120558 0 1.0\n",
      "121019 0 1.0\n",
      "121252 0 1.0\n",
      "121656 0 1.0\n",
      "121765 0 1.0\n",
      "122989 0 1.0\n",
      "123099 0 1.0\n",
      "123242 0 1.0\n",
      "123253 0 1.0\n",
      "123393 0 1.0\n",
      "123538 0 1.0\n",
      "124312 0 1.0\n",
      "124457 0 1.0\n",
      "124730 0 1.0\n",
      "124771 0 1.0\n",
      "125439 0 1.0\n",
      "125485 0 1.0\n",
      "125835 0 1.0\n",
      "126264 0 1.0\n",
      "127851 0 1.0\n",
      "127948 0 1.0\n",
      "128129 0 1.0\n",
      "128274 0 1.0\n",
      "128527 0 1.0\n",
      "128624 0 1.0\n",
      "129142 0 1.0\n",
      "129216 0 1.0\n",
      "129404 0 1.0\n",
      "129480 0 1.0\n",
      "129697 0 1.0\n",
      "129907 0 1.0\n",
      "131511 0 1.0\n",
      "135486 0 1.0\n",
      "135659 0 1.0\n",
      "136625 0 1.0\n",
      "136681 0 1.0\n",
      "146856 0 1.0\n",
      "146895 0 1.0\n",
      "152929 0 1.0\n",
      "152961 0 1.0\n",
      "157502 0 1.0\n",
      "157777 0 1.0\n",
      "161209 0 1.0\n",
      "161245 0 1.0\n",
      "186379 0 1.0\n",
      "186411 0 1.0\n",
      "197266 0 1.0\n",
      "197346 0 1.0\n",
      "198251 0 1.0\n",
      "198490 0 1.0\n",
      "198631 0 1.0\n",
      "199070 0 1.0\n",
      "199571 0 1.0\n",
      "202609 0 1.0\n",
      "203318 0 1.0\n",
      "253209 0 1.0\n",
      "253240 0 1.0\n",
      "256357 0 1.0\n",
      "256492 0 1.0\n",
      "256605 0 1.0\n",
      "256645 0 1.0\n",
      "263020 0 1.0\n",
      "270859 0 1.0\n",
      "270867 0 1.0\n",
      "279336 0 1.0\n",
      "279346 0 1.0\n",
      "279588 0 1.0\n",
      "279635 0 1.0\n",
      "281651 0 1.0\n",
      "303706 0 1.0\n",
      "303773 0 1.0\n",
      "316569 0 1.0\n",
      "338269 0 1.0\n",
      "353058 0 1.0\n",
      "354340 0 1.0\n",
      "354372 0 1.0\n",
      "354628 0 1.0\n",
      "391616 0 1.0\n",
      "394530 0 1.0\n",
      "397484 0 1.0\n",
      "397728 0 1.0\n",
      "401840 0 1.0\n",
      "401871 0 1.0\n",
      "402328 0 1.0\n",
      "402429 0 1.0\n",
      "402497 0 1.0\n",
      "402756 0 1.0\n",
      "402916 0 1.0\n",
      "403025 0 1.0\n",
      "403128 0 1.0\n",
      "403133 0 1.0\n",
      "403140 0 1.0\n",
      "403932 0 1.0\n",
      "404054 0 1.0\n",
      "404192 0 1.0\n",
      "404275 0 1.0\n",
      "404405 0 1.0\n",
      "404484 0 1.0\n",
      "404577 0 1.0\n",
      "404746 0 1.0\n",
      "406447 0 1.0\n",
      "406630 0 1.0\n",
      "408037 0 1.0\n",
      "408133 0 1.0\n",
      "408142 0 1.0\n",
      "408365 0 1.0\n",
      "409152 0 1.0\n",
      "409302 0 1.0\n",
      "409547 0 1.0\n",
      "409668 0 1.0\n",
      "409807 0 1.0\n",
      "409872 0 1.0\n",
      "410822 0 1.0\n",
      "410986 0 1.0\n",
      "412130 0 1.0\n",
      "412350 0 1.0\n",
      "412375 0 1.0\n",
      "412433 0 1.0\n",
      "416891 0 1.0\n",
      "417141 0 1.0\n",
      "428481 0 1.0\n",
      "428685 0 1.0\n",
      "428761 0 1.0\n",
      "428847 0 1.0\n",
      "429541 0 1.0\n",
      "429656 0 1.0\n",
      "430820 0 1.0\n",
      "430961 0 1.0\n",
      "431032 0 1.0\n",
      "431092 0 1.0\n",
      "433981 0 1.0\n",
      "434159 0 1.0\n",
      "435153 0 1.0\n",
      "435420 0 1.0\n",
      "437053 0 1.0\n",
      "437254 0 1.0\n",
      "437273 0 1.0\n",
      "437317 0 1.0\n",
      "437354 0 1.0\n",
      "446857 0 1.0\n",
      "447146 0 1.0\n",
      "447765 0 1.0\n",
      "448035 0 1.0\n",
      "448690 0 1.0\n",
      "448886 0 1.0\n",
      "448901 0 1.0\n",
      "448954 0 1.0\n",
      "453595 0 1.0\n",
      "453894 0 1.0\n",
      "454230 0 1.0\n",
      "460285 0 1.0\n",
      "471949 0 1.0\n",
      "471956 0 1.0\n",
      "473857 0 1.0\n",
      "473867 0 1.0\n",
      "476500 0 1.0\n",
      "476503 0 1.0\n",
      "478671 0 1.0\n",
      "478679 0 1.0\n",
      "478794 0 1.0\n",
      "478813 0 1.0\n",
      "478991 0 1.0\n",
      "478999 0 1.0\n",
      "480862 0 1.0\n",
      "491358 0 1.0\n",
      "491434 0 1.0\n",
      "539212 0 1.0\n",
      "542507 0 1.0\n",
      "543303 0 1.0\n",
      "550581 0 1.0\n",
      "550669 0 1.0\n",
      "552302 0 1.0\n",
      "552354 0 1.0\n",
      "552682 0 1.0\n",
      "553502 0 1.0\n",
      "553820 0 1.0\n",
      "553882 0 1.0\n",
      "561036 0 1.0\n",
      "561099 0 1.0\n",
      "575447 0 1.0\n",
      "575499 0 1.0\n",
      "576753 0 1.0\n",
      "576801 0 1.0\n",
      "576883 0 1.0\n",
      "576940 0 1.0\n",
      "578344 0 1.0\n",
      "578376 0 1.0\n",
      "579813 0 1.0\n",
      "581768 0 1.0\n",
      "581889 0 1.0\n",
      "581938 0 1.0\n",
      "581983 0 1.0\n",
      "582011 0 1.0\n",
      "582053 0 1.0\n",
      "582078 0 1.0\n",
      "582156 0 1.0\n",
      "582296 0 1.0\n",
      "582479 0 1.0\n",
      "591795 0 1.0\n",
      "607242 0 1.0\n",
      "607248 0 1.0\n",
      "620780 0 1.0\n",
      "620809 0 1.0\n",
      "623133 0 1.0\n",
      "623226 0 1.0\n",
      "631060 0 1.0\n",
      "631087 0 1.0\n",
      "631695 0 1.0\n",
      "631702 0 1.0\n",
      "631745 0 1.0\n",
      "631767 0 1.0\n",
      "632564 0 1.0\n",
      "632596 0 1.0\n",
      "632969 0 1.0\n",
      "632981 0 1.0\n",
      "638114 0 1.0\n",
      "638703 0 1.0\n",
      "638925 0 1.0\n",
      "638956 0 1.0\n",
      "644690 0 1.0\n",
      "644698 0 1.0\n",
      "657550 0 1.0\n",
      "661311 0 1.0\n",
      "661365 0 1.0\n",
      "661523 0 1.0\n",
      "661693 0 1.0\n",
      "665706 0 1.0\n",
      "665917 0 1.0\n",
      "666390 0 1.0\n",
      "666394 0 1.0\n",
      "666618 0 1.0\n",
      "666687 0 1.0\n",
      "666879 0 1.0\n",
      "670848 0 1.0\n",
      "671009 0 1.0\n",
      "671614 0 1.0\n",
      "671715 0 1.0\n",
      "671763 0 1.0\n",
      "672015 0 1.0\n",
      "672106 0 1.0\n",
      "674057 0 1.0\n",
      "674161 0 1.0\n",
      "674258 0 1.0\n",
      "674345 0 1.0\n",
      "674380 0 1.0\n",
      "674524 0 1.0\n",
      "674656 0 1.0\n",
      "674717 0 1.0\n",
      "674851 0 1.0\n",
      "674954 0 1.0\n",
      "676089 0 1.0\n",
      "677613 0 1.0\n",
      "679274 0 1.0\n",
      "680471 0 1.0\n",
      "686604 0 1.0\n",
      "686608 0 1.0\n",
      "686639 0 1.0\n",
      "686819 0 1.0\n",
      "686821 0 1.0\n",
      "688319 0 1.0\n",
      "688387 0 1.0\n",
      "701432 0 1.0\n",
      "701437 0 1.0\n",
      "701648 0 1.0\n",
      "701682 0 1.0\n",
      "723306 0 1.0\n",
      "728761 0 1.0\n",
      "728788 0 1.0\n",
      "729926 0 1.0\n",
      "729977 0 1.0\n",
      "730777 0 1.0\n",
      "730898 0 1.0\n",
      "734760 0 1.0\n",
      "734775 0 1.0\n",
      "775635 0 1.0\n",
      "775905 0 1.0\n",
      "776574 0 1.0\n",
      "776754 0 1.0\n",
      "782769 0 1.0\n",
      "792637 0 1.0\n",
      "792651 0 1.0\n",
      "792683 0 1.0\n",
      "792691 0 1.0\n",
      "792763 0 1.0\n",
      "796026 0 1.0\n",
      "796084 0 1.0\n",
      "809835 0 1.0\n",
      "809863 0 1.0\n",
      "827585 0 1.0\n",
      "848525 0 1.0\n",
      "914279 0 1.0\n",
      "980034 0 1.0\n",
      "992770 0 1.0\n",
      "1032413 0 1.0\n",
      "1032425 0 1.0\n",
      "1032430 0 1.0\n"
     ]
    }
   ],
   "source": [
    "for i in range(len(target)):\n",
    "    if target.iloc[i] != ans[i] and ans[i] == 1:\n",
    "        print(i, target.iloc[i],ans[i])\n",
    "    "
   ]
  },
  {
   "cell_type": "markdown",
   "metadata": {
    "id": "6TSdu3Uk7ASm"
   },
   "source": [
    "## Tuning AutoEncoder using keras tuner\n",
    "\n"
   ]
  },
  {
   "cell_type": "code",
   "execution_count": 122,
   "metadata": {
    "colab": {
     "base_uri": "https://localhost:8080/"
    },
    "id": "1Zt5CaPNCh__",
    "outputId": "66ce8062-88c7-4967-a538-1736f70cf5ca"
   },
   "outputs": [
    {
     "name": "stdout",
     "output_type": "stream",
     "text": [
      "Requirement already satisfied: keras-tuner in c:\\users\\houfo\\anaconda3\\lib\\site-packages (1.1.3)\n",
      "Requirement already satisfied: numpy in c:\\users\\houfo\\anaconda3\\lib\\site-packages (from keras-tuner) (1.22.3)\n",
      "Requirement already satisfied: kt-legacy in c:\\users\\houfo\\anaconda3\\lib\\site-packages (from keras-tuner) (1.0.4)\n",
      "Requirement already satisfied: ipython in c:\\users\\houfo\\anaconda3\\lib\\site-packages (from keras-tuner) (8.2.0)\n",
      "Requirement already satisfied: tensorboard in c:\\users\\houfo\\anaconda3\\lib\\site-packages (from keras-tuner) (2.10.0)\n",
      "Requirement already satisfied: requests in c:\\users\\houfo\\anaconda3\\lib\\site-packages (from keras-tuner) (2.27.1)\n",
      "Requirement already satisfied: packaging in c:\\users\\houfo\\anaconda3\\lib\\site-packages (from keras-tuner) (21.3)\n",
      "Requirement already satisfied: colorama in c:\\users\\houfo\\anaconda3\\lib\\site-packages (from ipython->keras-tuner) (0.4.4)\n",
      "Requirement already satisfied: stack-data in c:\\users\\houfo\\anaconda3\\lib\\site-packages (from ipython->keras-tuner) (0.2.0)\n",
      "Requirement already satisfied: traitlets>=5 in c:\\users\\houfo\\anaconda3\\lib\\site-packages (from ipython->keras-tuner) (5.1.1)\n",
      "Requirement already satisfied: setuptools>=18.5 in c:\\users\\houfo\\anaconda3\\lib\\site-packages (from ipython->keras-tuner) (61.2.0)\n",
      "Requirement already satisfied: jedi>=0.16 in c:\\users\\houfo\\anaconda3\\lib\\site-packages (from ipython->keras-tuner) (0.18.1)\n",
      "Requirement already satisfied: decorator in c:\\users\\houfo\\anaconda3\\lib\\site-packages (from ipython->keras-tuner) (5.1.1)\n",
      "Requirement already satisfied: prompt-toolkit!=3.0.0,!=3.0.1,<3.1.0,>=2.0.0 in c:\\users\\houfo\\anaconda3\\lib\\site-packages (from ipython->keras-tuner) (3.0.20)\n",
      "Requirement already satisfied: backcall in c:\\users\\houfo\\anaconda3\\lib\\site-packages (from ipython->keras-tuner) (0.2.0)\n",
      "Requirement already satisfied: matplotlib-inline in c:\\users\\houfo\\anaconda3\\lib\\site-packages (from ipython->keras-tuner) (0.1.2)\n",
      "Requirement already satisfied: pygments>=2.4.0 in c:\\users\\houfo\\anaconda3\\lib\\site-packages (from ipython->keras-tuner) (2.11.2)\n",
      "Requirement already satisfied: pickleshare in c:\\users\\houfo\\anaconda3\\lib\\site-packages (from ipython->keras-tuner) (0.7.5)\n",
      "Requirement already satisfied: parso<0.9.0,>=0.8.0 in c:\\users\\houfo\\anaconda3\\lib\\site-packages (from jedi>=0.16->ipython->keras-tuner) (0.8.3)\n",
      "Requirement already satisfied: wcwidth in c:\\users\\houfo\\anaconda3\\lib\\site-packages (from prompt-toolkit!=3.0.0,!=3.0.1,<3.1.0,>=2.0.0->ipython->keras-tuner) (0.2.5)\n",
      "Requirement already satisfied: pyparsing!=3.0.5,>=2.0.2 in c:\\users\\houfo\\anaconda3\\lib\\site-packages (from packaging->keras-tuner) (3.0.4)\n",
      "Requirement already satisfied: charset-normalizer~=2.0.0 in c:\\users\\houfo\\anaconda3\\lib\\site-packages (from requests->keras-tuner) (2.0.4)\n",
      "Requirement already satisfied: idna<4,>=2.5 in c:\\users\\houfo\\anaconda3\\lib\\site-packages (from requests->keras-tuner) (3.3)\n",
      "Requirement already satisfied: certifi>=2017.4.17 in c:\\users\\houfo\\anaconda3\\lib\\site-packages (from requests->keras-tuner) (2022.6.15)\n",
      "Requirement already satisfied: urllib3<1.27,>=1.21.1 in c:\\users\\houfo\\anaconda3\\lib\\site-packages (from requests->keras-tuner) (1.26.9)\n",
      "Requirement already satisfied: executing in c:\\users\\houfo\\anaconda3\\lib\\site-packages (from stack-data->ipython->keras-tuner) (0.8.3)\n",
      "Requirement already satisfied: asttokens in c:\\users\\houfo\\anaconda3\\lib\\site-packages (from stack-data->ipython->keras-tuner) (2.0.5)\n",
      "Requirement already satisfied: pure-eval in c:\\users\\houfo\\anaconda3\\lib\\site-packages (from stack-data->ipython->keras-tuner) (0.2.2)\n",
      "Requirement already satisfied: six in c:\\users\\houfo\\anaconda3\\lib\\site-packages (from asttokens->stack-data->ipython->keras-tuner) (1.16.0)\n",
      "Requirement already satisfied: tensorboard-plugin-wit>=1.6.0 in c:\\users\\houfo\\anaconda3\\lib\\site-packages (from tensorboard->keras-tuner) (1.8.1)\n",
      "Requirement already satisfied: google-auth-oauthlib<0.5,>=0.4.1 in c:\\users\\houfo\\anaconda3\\lib\\site-packages (from tensorboard->keras-tuner) (0.4.6)\n",
      "Requirement already satisfied: grpcio>=1.24.3 in c:\\users\\houfo\\anaconda3\\lib\\site-packages (from tensorboard->keras-tuner) (1.48.1)\n",
      "Requirement already satisfied: markdown>=2.6.8 in c:\\users\\houfo\\anaconda3\\lib\\site-packages (from tensorboard->keras-tuner) (3.4.1)\n",
      "Requirement already satisfied: tensorboard-data-server<0.7.0,>=0.6.0 in c:\\users\\houfo\\anaconda3\\lib\\site-packages (from tensorboard->keras-tuner) (0.6.1)\n",
      "Requirement already satisfied: protobuf<3.20,>=3.9.2 in c:\\users\\houfo\\anaconda3\\lib\\site-packages (from tensorboard->keras-tuner) (3.19.4)\n",
      "Requirement already satisfied: wheel>=0.26 in c:\\users\\houfo\\anaconda3\\lib\\site-packages (from tensorboard->keras-tuner) (0.37.1)\n",
      "Requirement already satisfied: google-auth<3,>=1.6.3 in c:\\users\\houfo\\anaconda3\\lib\\site-packages (from tensorboard->keras-tuner) (2.11.0)\n",
      "Requirement already satisfied: absl-py>=0.4 in c:\\users\\houfo\\anaconda3\\lib\\site-packages (from tensorboard->keras-tuner) (1.2.0)\n",
      "Requirement already satisfied: werkzeug>=1.0.1 in c:\\users\\houfo\\anaconda3\\lib\\site-packages (from tensorboard->keras-tuner) (2.2.2)\n",
      "Requirement already satisfied: cachetools<6.0,>=2.0.0 in c:\\users\\houfo\\anaconda3\\lib\\site-packages (from google-auth<3,>=1.6.3->tensorboard->keras-tuner) (5.2.0)\n",
      "Requirement already satisfied: rsa<5,>=3.1.4 in c:\\users\\houfo\\anaconda3\\lib\\site-packages (from google-auth<3,>=1.6.3->tensorboard->keras-tuner) (4.9)\n",
      "Requirement already satisfied: pyasn1-modules>=0.2.1 in c:\\users\\houfo\\anaconda3\\lib\\site-packages (from google-auth<3,>=1.6.3->tensorboard->keras-tuner) (0.2.8)\n",
      "Requirement already satisfied: requests-oauthlib>=0.7.0 in c:\\users\\houfo\\anaconda3\\lib\\site-packages (from google-auth-oauthlib<0.5,>=0.4.1->tensorboard->keras-tuner) (1.3.1)\n",
      "Requirement already satisfied: importlib-metadata>=4.4 in c:\\users\\houfo\\anaconda3\\lib\\site-packages (from markdown>=2.6.8->tensorboard->keras-tuner) (4.12.0)\n",
      "Requirement already satisfied: zipp>=0.5 in c:\\users\\houfo\\anaconda3\\lib\\site-packages (from importlib-metadata>=4.4->markdown>=2.6.8->tensorboard->keras-tuner) (3.7.0)\n",
      "Requirement already satisfied: pyasn1<0.5.0,>=0.4.6 in c:\\users\\houfo\\anaconda3\\lib\\site-packages (from pyasn1-modules>=0.2.1->google-auth<3,>=1.6.3->tensorboard->keras-tuner) (0.4.8)\n",
      "Requirement already satisfied: oauthlib>=3.0.0 in c:\\users\\houfo\\anaconda3\\lib\\site-packages (from requests-oauthlib>=0.7.0->google-auth-oauthlib<0.5,>=0.4.1->tensorboard->keras-tuner) (3.2.1)\n",
      "Requirement already satisfied: MarkupSafe>=2.1.1 in c:\\users\\houfo\\anaconda3\\lib\\site-packages (from werkzeug>=1.0.1->tensorboard->keras-tuner) (2.1.1)\n"
     ]
    }
   ],
   "source": [
    "!pip install -U keras-tuner"
   ]
  },
  {
   "cell_type": "code",
   "execution_count": 123,
   "metadata": {
    "id": "-AwQid85DbyC"
   },
   "outputs": [
    {
     "name": "stderr",
     "output_type": "stream",
     "text": [
      "C:\\Users\\houfo\\AppData\\Local\\Temp\\ipykernel_19092\\3309659638.py:1: DeprecationWarning: `import kerastuner` is deprecated, please use `import keras_tuner`.\n",
      "  import kerastuner as kt\n"
     ]
    }
   ],
   "source": [
    "import kerastuner as kt\n",
    "\n",
    "class AutoEncoderTuner(Model):\n",
    "\n",
    "  def __init__(self, hp, output_units, code_size=8):\n",
    "    super().__init__()\n",
    "    dense_1_units = hp.Int('dense_1_units', min_value=16, max_value=72, step=4)\n",
    "    dense_2_units = hp.Int('dense_2_units', min_value=16, max_value=72, step=4)\n",
    "    dense_3_units = hp.Int('dense_3_units', min_value=16, max_value=72, step=4)\n",
    "    dense_4_units = hp.Int('dense_4_units', min_value=16, max_value=72, step=4)\n",
    "    dense_5_units = hp.Int('dense_5_units', min_value=16, max_value=72, step=4)\n",
    "    dense_6_units = hp.Int('dense_6_units', min_value=16, max_value=72, step=4)\n",
    "    \n",
    "    self.encoder = Sequential([\n",
    "      Dense(dense_1_units, activation='relu'),\n",
    "      Dropout(0.1),\n",
    "      Dense(dense_2_units, activation='relu'),\n",
    "      Dropout(0.1),\n",
    "      Dense(dense_3_units, activation='relu'),\n",
    "      Dropout(0.1),\n",
    "      Dense(code_size, activation='relu')\n",
    "    ])\n",
    "    self.decoder = Sequential([\n",
    "      Dense(dense_4_units, activation='relu'),\n",
    "      Dropout(0.1),\n",
    "      Dense(dense_5_units, activation='relu'),\n",
    "      Dropout(0.1),\n",
    "      Dense(dense_6_units, activation='relu'),\n",
    "      Dropout(0.1),\n",
    "      Dense(output_units, activation='sigmoid')\n",
    "    ])\n",
    "  \n",
    "  def call(self, inputs):\n",
    "    encoded = self.encoder(inputs)\n",
    "    decoded = self.decoder(encoded)\n",
    "    return decoded\n",
    "\n",
    "\n",
    "def build_model(hp):\n",
    "  model = AutoEncoderTuner(hp, 140)\n",
    "  hp_learning_rate = hp.Choice('learning_rate', values=[1e-2, 1e-3, 1e-4])\n",
    "  model.compile(\n",
    "      loss='msle',\n",
    "      optimizer=Adam(learning_rate=hp_learning_rate),\n",
    "  )\n",
    "  return model"
   ]
  },
  {
   "cell_type": "code",
   "execution_count": 124,
   "metadata": {
    "colab": {
     "base_uri": "https://localhost:8080/"
    },
    "id": "_6X0KEcX6NAS",
    "outputId": "8bf5e44c-ed99-40b3-a051-68aad31fce9e"
   },
   "outputs": [
    {
     "name": "stdout",
     "output_type": "stream",
     "text": [
      "INFO:tensorflow:Reloading Oracle from existing project autoencoder\\tuning_autoencoder6\\oracle.json\n",
      "INFO:tensorflow:Reloading Tuner from autoencoder\\tuning_autoencoder6\\tuner0.json\n",
      "INFO:tensorflow:Oracle triggered exit\n"
     ]
    }
   ],
   "source": [
    "tuner = kt.Hyperband(\n",
    "    build_model,\n",
    "    objective='val_loss',\n",
    "    max_epochs=20,\n",
    "    factor=3,\n",
    "    directory='autoencoder',\n",
    "    project_name='tuning_autoencoder6'\n",
    ")\n",
    "\n",
    "tuner.search(\n",
    "    x_train_scaled, \n",
    "    x_train_scaled, \n",
    "    epochs=20, \n",
    "    batch_size=512,\n",
    "    validation_data=(x_test_scaled, x_test_scaled)\n",
    ")"
   ]
  },
  {
   "cell_type": "code",
   "execution_count": 125,
   "metadata": {
    "colab": {
     "base_uri": "https://localhost:8080/"
    },
    "id": "_tiB8zhcF0QV",
    "outputId": "4e5b74d2-fff8-4502-f60b-d15f388330ce"
   },
   "outputs": [
    {
     "name": "stdout",
     "output_type": "stream",
     "text": [
      "dense_1_units: 24\n",
      "dense_2_units: 64\n",
      "dense_3_units: 64\n",
      "dense_4_units: 48\n",
      "dense_5_units: 20\n",
      "dense_6_units: 20\n",
      "learning_rate: 0.01\n"
     ]
    }
   ],
   "source": [
    "hparams = [f'dense_{i}_units' for i in range(1,7)] + ['learning_rate']\n",
    "best_hyperparams = tuner.get_best_hyperparameters()\n",
    "for hps in hparams:\n",
    "  print(f\"{hps}: {best_hyperparams[0][hps]}\")"
   ]
  },
  {
   "cell_type": "code",
   "execution_count": 126,
   "metadata": {
    "colab": {
     "base_uri": "https://localhost:8080/"
    },
    "id": "MUvDIqvVEuNk",
    "outputId": "0c8f1a84-c746-4f3d-fd12-a3dade4e5459"
   },
   "outputs": [
    {
     "name": "stdout",
     "output_type": "stream",
     "text": [
      "Epoch 1/20\n",
      "103/103 [==============================] - 3s 19ms/step - loss: 0.0026 - val_loss: 0.0016\n",
      "Epoch 2/20\n",
      "103/103 [==============================] - 2s 17ms/step - loss: 0.0016 - val_loss: 0.0015\n",
      "Epoch 3/20\n",
      "103/103 [==============================] - 2s 17ms/step - loss: 0.0015 - val_loss: 0.0013\n",
      "Epoch 4/20\n",
      "103/103 [==============================] - 2s 17ms/step - loss: 0.0014 - val_loss: 0.0011\n",
      "Epoch 5/20\n",
      "103/103 [==============================] - 2s 17ms/step - loss: 0.0012 - val_loss: 0.0010\n",
      "Epoch 6/20\n",
      "103/103 [==============================] - 2s 17ms/step - loss: 0.0011 - val_loss: 9.6532e-04\n",
      "Epoch 7/20\n",
      "103/103 [==============================] - 2s 18ms/step - loss: 0.0011 - val_loss: 9.1650e-04\n",
      "Epoch 8/20\n",
      "103/103 [==============================] - 2s 17ms/step - loss: 0.0011 - val_loss: 8.8817e-04\n",
      "Epoch 9/20\n",
      "103/103 [==============================] - 2s 18ms/step - loss: 0.0010 - val_loss: 8.6074e-04\n",
      "Epoch 10/20\n",
      "103/103 [==============================] - 2s 18ms/step - loss: 0.0010 - val_loss: 8.4146e-04\n",
      "Epoch 11/20\n",
      "103/103 [==============================] - 2s 18ms/step - loss: 9.8123e-04 - val_loss: 8.2076e-04\n",
      "Epoch 12/20\n",
      "103/103 [==============================] - 2s 18ms/step - loss: 9.6315e-04 - val_loss: 7.9736e-04\n",
      "Epoch 13/20\n",
      "103/103 [==============================] - 2s 15ms/step - loss: 9.4786e-04 - val_loss: 7.9355e-04\n",
      "Epoch 14/20\n",
      "103/103 [==============================] - 2s 17ms/step - loss: 9.3261e-04 - val_loss: 7.7399e-04\n",
      "Epoch 15/20\n",
      "103/103 [==============================] - 2s 17ms/step - loss: 9.1997e-04 - val_loss: 7.7179e-04\n",
      "Epoch 16/20\n",
      "103/103 [==============================] - 2s 18ms/step - loss: 9.0740e-04 - val_loss: 7.5859e-04\n",
      "Epoch 17/20\n",
      "103/103 [==============================] - 2s 20ms/step - loss: 8.9420e-04 - val_loss: 7.5151e-04\n",
      "Epoch 18/20\n",
      "103/103 [==============================] - 2s 21ms/step - loss: 8.8546e-04 - val_loss: 7.2456e-04\n",
      "Epoch 19/20\n",
      "103/103 [==============================] - 2s 21ms/step - loss: 8.7425e-04 - val_loss: 7.2053e-04\n",
      "Epoch 20/20\n",
      "103/103 [==============================] - 2s 20ms/step - loss: 8.6190e-04 - val_loss: 7.0740e-04\n"
     ]
    },
    {
     "data": {
      "text/plain": [
       "<keras.callbacks.History at 0x1d3044ac4f0>"
      ]
     },
     "execution_count": 126,
     "metadata": {},
     "output_type": "execute_result"
    }
   ],
   "source": [
    "best_model = tuner.get_best_models()[0]\n",
    "best_model.compile(loss='msle', optimizer=Adam(0.001))\n",
    "\n",
    "best_model.fit(\n",
    "    x_train_scaled,\n",
    "    x_train_scaled,\n",
    "    epochs=20,\n",
    "    batch_size=512,\n",
    "    validation_data=(x_test_scaled, x_test_scaled)\n",
    ")"
   ]
  },
  {
   "cell_type": "code",
   "execution_count": 127,
   "metadata": {
    "colab": {
     "base_uri": "https://localhost:8080/"
    },
    "id": "H0DvGEOkHdsn",
    "outputId": "534ee8fa-d12d-49e4-b95e-0b5dbc24760d"
   },
   "outputs": [
    {
     "name": "stdout",
     "output_type": "stream",
     "text": [
      "1643/1643 [==============================] - 3s 2ms/step\n",
      "411/411 [==============================] - 1s 2ms/step\n"
     ]
    },
    {
     "data": {
      "text/plain": [
       "0.9765036879324767"
      ]
     },
     "execution_count": 127,
     "metadata": {},
     "output_type": "execute_result"
    }
   ],
   "source": [
    "threshold_ = find_threshold(best_model, x_train_scaled)\n",
    "preds_ = get_predictions(best_model, x_test_scaled, threshold_)\n",
    "accuracy_score(preds_, y_test)"
   ]
  },
  {
   "cell_type": "code",
   "execution_count": 33,
   "metadata": {},
   "outputs": [],
   "source": [
    "ar = data.iloc[[4]].to_numpy()"
   ]
  },
  {
   "cell_type": "code",
   "execution_count": 196,
   "metadata": {},
   "outputs": [
    {
     "data": {
      "text/html": [
       "<div>\n",
       "<style scoped>\n",
       "    .dataframe tbody tr th:only-of-type {\n",
       "        vertical-align: middle;\n",
       "    }\n",
       "\n",
       "    .dataframe tbody tr th {\n",
       "        vertical-align: top;\n",
       "    }\n",
       "\n",
       "    .dataframe thead th {\n",
       "        text-align: right;\n",
       "    }\n",
       "</style>\n",
       "<table border=\"1\" class=\"dataframe\">\n",
       "  <thead>\n",
       "    <tr style=\"text-align: right;\">\n",
       "      <th></th>\n",
       "      <th>0</th>\n",
       "      <th>1</th>\n",
       "      <th>2</th>\n",
       "      <th>3</th>\n",
       "      <th>4</th>\n",
       "      <th>5</th>\n",
       "      <th>6</th>\n",
       "      <th>7</th>\n",
       "      <th>8</th>\n",
       "      <th>9</th>\n",
       "      <th>...</th>\n",
       "      <th>131</th>\n",
       "      <th>132</th>\n",
       "      <th>133</th>\n",
       "      <th>134</th>\n",
       "      <th>135</th>\n",
       "      <th>136</th>\n",
       "      <th>137</th>\n",
       "      <th>138</th>\n",
       "      <th>139</th>\n",
       "      <th>140</th>\n",
       "    </tr>\n",
       "  </thead>\n",
       "  <tbody>\n",
       "    <tr>\n",
       "      <th>0</th>\n",
       "      <td>-0.260</td>\n",
       "      <td>-0.275</td>\n",
       "      <td>-0.250</td>\n",
       "      <td>-0.235</td>\n",
       "      <td>-0.250</td>\n",
       "      <td>-0.250</td>\n",
       "      <td>-0.275</td>\n",
       "      <td>-0.310</td>\n",
       "      <td>-0.340</td>\n",
       "      <td>-0.310</td>\n",
       "      <td>...</td>\n",
       "      <td>-0.285</td>\n",
       "      <td>-0.270</td>\n",
       "      <td>-0.285</td>\n",
       "      <td>-0.270</td>\n",
       "      <td>-0.270</td>\n",
       "      <td>-0.270</td>\n",
       "      <td>-0.275</td>\n",
       "      <td>-0.255</td>\n",
       "      <td>-0.255</td>\n",
       "      <td>0</td>\n",
       "    </tr>\n",
       "    <tr>\n",
       "      <th>1</th>\n",
       "      <td>-0.270</td>\n",
       "      <td>-0.240</td>\n",
       "      <td>-0.250</td>\n",
       "      <td>-0.250</td>\n",
       "      <td>-0.265</td>\n",
       "      <td>-0.290</td>\n",
       "      <td>-0.280</td>\n",
       "      <td>-0.275</td>\n",
       "      <td>-0.285</td>\n",
       "      <td>-0.285</td>\n",
       "      <td>...</td>\n",
       "      <td>-0.265</td>\n",
       "      <td>-0.240</td>\n",
       "      <td>-0.255</td>\n",
       "      <td>-0.245</td>\n",
       "      <td>-0.225</td>\n",
       "      <td>-0.265</td>\n",
       "      <td>-0.240</td>\n",
       "      <td>-0.240</td>\n",
       "      <td>-0.240</td>\n",
       "      <td>1</td>\n",
       "    </tr>\n",
       "    <tr>\n",
       "      <th>2</th>\n",
       "      <td>-0.275</td>\n",
       "      <td>-0.240</td>\n",
       "      <td>-0.275</td>\n",
       "      <td>-0.280</td>\n",
       "      <td>-0.275</td>\n",
       "      <td>-0.295</td>\n",
       "      <td>-0.290</td>\n",
       "      <td>-0.300</td>\n",
       "      <td>-0.290</td>\n",
       "      <td>-0.290</td>\n",
       "      <td>...</td>\n",
       "      <td>0.010</td>\n",
       "      <td>0.010</td>\n",
       "      <td>0.015</td>\n",
       "      <td>0.015</td>\n",
       "      <td>0.035</td>\n",
       "      <td>0.025</td>\n",
       "      <td>0.020</td>\n",
       "      <td>-0.015</td>\n",
       "      <td>-0.025</td>\n",
       "      <td>1</td>\n",
       "    </tr>\n",
       "    <tr>\n",
       "      <th>3</th>\n",
       "      <td>-0.045</td>\n",
       "      <td>-0.060</td>\n",
       "      <td>-0.070</td>\n",
       "      <td>-0.080</td>\n",
       "      <td>-0.070</td>\n",
       "      <td>-0.050</td>\n",
       "      <td>-0.080</td>\n",
       "      <td>-0.095</td>\n",
       "      <td>-0.105</td>\n",
       "      <td>-0.135</td>\n",
       "      <td>...</td>\n",
       "      <td>-0.160</td>\n",
       "      <td>-0.135</td>\n",
       "      <td>-0.130</td>\n",
       "      <td>-0.120</td>\n",
       "      <td>-0.135</td>\n",
       "      <td>-0.130</td>\n",
       "      <td>-0.095</td>\n",
       "      <td>-0.110</td>\n",
       "      <td>-0.100</td>\n",
       "      <td>1</td>\n",
       "    </tr>\n",
       "    <tr>\n",
       "      <th>4</th>\n",
       "      <td>-0.060</td>\n",
       "      <td>-0.050</td>\n",
       "      <td>-0.055</td>\n",
       "      <td>-0.075</td>\n",
       "      <td>-0.045</td>\n",
       "      <td>-0.045</td>\n",
       "      <td>-0.020</td>\n",
       "      <td>-0.025</td>\n",
       "      <td>-0.020</td>\n",
       "      <td>-0.025</td>\n",
       "      <td>...</td>\n",
       "      <td>0.685</td>\n",
       "      <td>0.220</td>\n",
       "      <td>-0.400</td>\n",
       "      <td>-0.910</td>\n",
       "      <td>-1.020</td>\n",
       "      <td>-0.885</td>\n",
       "      <td>-0.655</td>\n",
       "      <td>-0.485</td>\n",
       "      <td>-0.395</td>\n",
       "      <td>1</td>\n",
       "    </tr>\n",
       "    <tr>\n",
       "      <th>65750</th>\n",
       "      <td>-1.320</td>\n",
       "      <td>-1.045</td>\n",
       "      <td>-0.900</td>\n",
       "      <td>-0.825</td>\n",
       "      <td>-0.800</td>\n",
       "      <td>-0.815</td>\n",
       "      <td>-0.795</td>\n",
       "      <td>-0.745</td>\n",
       "      <td>-0.690</td>\n",
       "      <td>-0.640</td>\n",
       "      <td>...</td>\n",
       "      <td>-0.275</td>\n",
       "      <td>-0.285</td>\n",
       "      <td>-0.300</td>\n",
       "      <td>-0.300</td>\n",
       "      <td>-0.285</td>\n",
       "      <td>-0.295</td>\n",
       "      <td>-0.305</td>\n",
       "      <td>-0.300</td>\n",
       "      <td>-0.300</td>\n",
       "      <td>1</td>\n",
       "    </tr>\n",
       "    <tr>\n",
       "      <th>65751</th>\n",
       "      <td>-0.295</td>\n",
       "      <td>-0.265</td>\n",
       "      <td>-0.300</td>\n",
       "      <td>-0.280</td>\n",
       "      <td>-0.275</td>\n",
       "      <td>-0.300</td>\n",
       "      <td>-0.290</td>\n",
       "      <td>-0.275</td>\n",
       "      <td>-0.290</td>\n",
       "      <td>-0.300</td>\n",
       "      <td>...</td>\n",
       "      <td>-0.190</td>\n",
       "      <td>-0.205</td>\n",
       "      <td>-0.200</td>\n",
       "      <td>-0.215</td>\n",
       "      <td>-0.210</td>\n",
       "      <td>-0.220</td>\n",
       "      <td>-0.240</td>\n",
       "      <td>-0.230</td>\n",
       "      <td>-0.230</td>\n",
       "      <td>1</td>\n",
       "    </tr>\n",
       "    <tr>\n",
       "      <th>65752</th>\n",
       "      <td>-0.265</td>\n",
       "      <td>-0.265</td>\n",
       "      <td>-0.250</td>\n",
       "      <td>-0.265</td>\n",
       "      <td>-0.260</td>\n",
       "      <td>-0.270</td>\n",
       "      <td>-0.265</td>\n",
       "      <td>-0.270</td>\n",
       "      <td>-0.280</td>\n",
       "      <td>-0.315</td>\n",
       "      <td>...</td>\n",
       "      <td>-0.020</td>\n",
       "      <td>-0.090</td>\n",
       "      <td>-0.130</td>\n",
       "      <td>-0.165</td>\n",
       "      <td>-0.210</td>\n",
       "      <td>-0.235</td>\n",
       "      <td>-0.255</td>\n",
       "      <td>-0.240</td>\n",
       "      <td>-0.240</td>\n",
       "      <td>1</td>\n",
       "    </tr>\n",
       "    <tr>\n",
       "      <th>65753</th>\n",
       "      <td>-0.260</td>\n",
       "      <td>-0.300</td>\n",
       "      <td>-0.295</td>\n",
       "      <td>-0.305</td>\n",
       "      <td>-0.315</td>\n",
       "      <td>-0.335</td>\n",
       "      <td>-0.350</td>\n",
       "      <td>-0.340</td>\n",
       "      <td>-0.350</td>\n",
       "      <td>-0.320</td>\n",
       "      <td>...</td>\n",
       "      <td>-0.240</td>\n",
       "      <td>-0.215</td>\n",
       "      <td>-0.200</td>\n",
       "      <td>-0.185</td>\n",
       "      <td>-0.200</td>\n",
       "      <td>-0.200</td>\n",
       "      <td>-0.190</td>\n",
       "      <td>-0.200</td>\n",
       "      <td>-0.185</td>\n",
       "      <td>1</td>\n",
       "    </tr>\n",
       "    <tr>\n",
       "      <th>65754</th>\n",
       "      <td>-0.180</td>\n",
       "      <td>-0.225</td>\n",
       "      <td>-0.225</td>\n",
       "      <td>-0.225</td>\n",
       "      <td>-0.245</td>\n",
       "      <td>-0.260</td>\n",
       "      <td>-0.285</td>\n",
       "      <td>-0.350</td>\n",
       "      <td>-0.400</td>\n",
       "      <td>-0.375</td>\n",
       "      <td>...</td>\n",
       "      <td>-0.205</td>\n",
       "      <td>-0.200</td>\n",
       "      <td>-0.195</td>\n",
       "      <td>-0.175</td>\n",
       "      <td>-0.185</td>\n",
       "      <td>-0.195</td>\n",
       "      <td>-0.185</td>\n",
       "      <td>-0.200</td>\n",
       "      <td>-0.195</td>\n",
       "      <td>1</td>\n",
       "    </tr>\n",
       "  </tbody>\n",
       "</table>\n",
       "<p>10 rows × 141 columns</p>\n",
       "</div>"
      ],
      "text/plain": [
       "         0      1      2      3      4      5      6      7      8      9    \\\n",
       "0     -0.260 -0.275 -0.250 -0.235 -0.250 -0.250 -0.275 -0.310 -0.340 -0.310   \n",
       "1     -0.270 -0.240 -0.250 -0.250 -0.265 -0.290 -0.280 -0.275 -0.285 -0.285   \n",
       "2     -0.275 -0.240 -0.275 -0.280 -0.275 -0.295 -0.290 -0.300 -0.290 -0.290   \n",
       "3     -0.045 -0.060 -0.070 -0.080 -0.070 -0.050 -0.080 -0.095 -0.105 -0.135   \n",
       "4     -0.060 -0.050 -0.055 -0.075 -0.045 -0.045 -0.020 -0.025 -0.020 -0.025   \n",
       "65750 -1.320 -1.045 -0.900 -0.825 -0.800 -0.815 -0.795 -0.745 -0.690 -0.640   \n",
       "65751 -0.295 -0.265 -0.300 -0.280 -0.275 -0.300 -0.290 -0.275 -0.290 -0.300   \n",
       "65752 -0.265 -0.265 -0.250 -0.265 -0.260 -0.270 -0.265 -0.270 -0.280 -0.315   \n",
       "65753 -0.260 -0.300 -0.295 -0.305 -0.315 -0.335 -0.350 -0.340 -0.350 -0.320   \n",
       "65754 -0.180 -0.225 -0.225 -0.225 -0.245 -0.260 -0.285 -0.350 -0.400 -0.375   \n",
       "\n",
       "       ...    131    132    133    134    135    136    137    138    139  140  \n",
       "0      ... -0.285 -0.270 -0.285 -0.270 -0.270 -0.270 -0.275 -0.255 -0.255    0  \n",
       "1      ... -0.265 -0.240 -0.255 -0.245 -0.225 -0.265 -0.240 -0.240 -0.240    1  \n",
       "2      ...  0.010  0.010  0.015  0.015  0.035  0.025  0.020 -0.015 -0.025    1  \n",
       "3      ... -0.160 -0.135 -0.130 -0.120 -0.135 -0.130 -0.095 -0.110 -0.100    1  \n",
       "4      ...  0.685  0.220 -0.400 -0.910 -1.020 -0.885 -0.655 -0.485 -0.395    1  \n",
       "65750  ... -0.275 -0.285 -0.300 -0.300 -0.285 -0.295 -0.305 -0.300 -0.300    1  \n",
       "65751  ... -0.190 -0.205 -0.200 -0.215 -0.210 -0.220 -0.240 -0.230 -0.230    1  \n",
       "65752  ... -0.020 -0.090 -0.130 -0.165 -0.210 -0.235 -0.255 -0.240 -0.240    1  \n",
       "65753  ... -0.240 -0.215 -0.200 -0.185 -0.200 -0.200 -0.190 -0.200 -0.185    1  \n",
       "65754  ... -0.205 -0.200 -0.195 -0.175 -0.185 -0.195 -0.185 -0.200 -0.195    1  \n",
       "\n",
       "[10 rows x 141 columns]"
      ]
     },
     "execution_count": 196,
     "metadata": {},
     "output_type": "execute_result"
    }
   ],
   "source": [
    "h = data.head()\n",
    "t = data.tail()"
   ]
  },
  {
   "cell_type": "code",
   "execution_count": 208,
   "metadata": {},
   "outputs": [
    {
     "name": "stdout",
     "output_type": "stream",
     "text": [
      "Number of unreachable objects collected by GC: 4483\n"
     ]
    }
   ],
   "source": [
    "import gc\n",
    "n = gc.collect()\n",
    "print(\"Number of unreachable objects collected by GC:\", n)\n"
   ]
  },
  {
   "cell_type": "code",
   "execution_count": 9,
   "metadata": {},
   "outputs": [
    {
     "data": {
      "image/png": "[encoded data removed]",
      "text/plain": [
       "<Figure size 432x288 with 1 Axes>"
      ]
     },
     "metadata": {
      "needs_background": "light"
     },
     "output_type": "display_data"
    }
   ],
   "source": [
    "#define function to calculate equal-frequency bins \n",
    "import numpy as np\n",
    "\n",
    "def equalObs(x, nbin):\n",
    "    nlen = len(x)\n",
    "    return np.interp(np.linspace(0, nlen, nbin + 1),\n",
    "                     np.arange(nlen),\n",
    "                     np.sort(x))\n",
    "\n",
    "#create histogram with equal-frequency bins \n",
    "data = [10, 9, 8, 7, 6, 5, 4, 3, 2, 1]\n",
    "n, bins, patches = plt.hist(data, equalObs(data, 3), edgecolor='black')\n",
    "plt.show()"
   ]
  },
  {
   "cell_type": "code",
   "execution_count": 10,
   "metadata": {},
   "outputs": [
    {
     "data": {
      "text/plain": [
       "array([4., 3., 3.])"
      ]
     },
     "execution_count": 10,
     "metadata": {},
     "output_type": "execute_result"
    }
   ],
   "source": [
    "n"
   ]
  },
  {
   "cell_type": "code",
   "execution_count": null,
   "metadata": {},
   "outputs": [],
   "source": []
  }
 ],
 "metadata": {
  "colab": {
   "provenance": [],
   "toc_visible": true
  },
  "kernelspec": {
   "display_name": "Python 3 (ipykernel)",
   "language": "python",
   "name": "python3"
  },
  "language_info": {
   "codemirror_mode": {
    "name": "ipython",
    "version": 3
   },
   "file_extension": ".py",
   "mimetype": "text/x-python",
   "name": "python",
   "nbconvert_exporter": "python",
   "pygments_lexer": "ipython3",
   "version": "3.8.8"
  }
 },
 "nbformat": 4,
 "nbformat_minor": 1
}
