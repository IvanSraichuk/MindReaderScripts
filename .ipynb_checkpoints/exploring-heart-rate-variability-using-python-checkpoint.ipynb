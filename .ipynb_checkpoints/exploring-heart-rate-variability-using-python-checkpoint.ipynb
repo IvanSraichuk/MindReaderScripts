{
 "cells": [
  {
   "cell_type": "markdown",
   "metadata": {
    "_uuid": "f88be53a3e583dbdec8a7b9971d828f7e24311f0"
   },
   "source": [
    "# Exploring Heart Rate Variability using Python\n",
    "\n",
    "## Introduction\n",
    "\n",
    "*One of the topics that got my interest last year was “Heart Rate Variability” or in short HRV. It is a popular biomarker that is used in many clinical trials and research for many years and is associated with a wide range of illnesses like diabetes, cardiovascular disease, obesity, chronic pain and stress-related diseases.*\n",
    "\n",
    "*I am particularly interested in how you can calculate HRV manually from a raw ECG signal. In this kernel I will share my findings with you by going through a step-by-step derivation of HRV using python.*\n",
    "\n",
    "*This kernel contains the code for my [blogpost on Medium](https://blog.orikami.nl/exploring-heart-rate-variability-using-python-483a7037c64d).*"
   ]
  },
  {
   "cell_type": "markdown",
   "metadata": {
    "_uuid": "8214ae45dea090c809fe70df60f5ece25ce7f151"
   },
   "source": [
    "### Imports"
   ]
  },
  {
   "cell_type": "code",
   "execution_count": null,
   "metadata": {
    "_uuid": "f16a40acf125deace96c8422f6eace376adc1ec3"
   },
   "outputs": [],
   "source": [
    "# system imports\n",
    "import os\n",
    "import sys\n",
    "\n",
    "# data science\n",
    "import pandas as pd\n",
    "import numpy as np\n",
    "import matplotlib.pyplot as plt\n",
    "from matplotlib.patches import Ellipse\n",
    "import seaborn as sns\n",
    "\n",
    "# signal processing\n",
    "from scipy import signal\n",
    "from scipy.ndimage import label\n",
    "from scipy.stats import zscore\n",
    "from scipy.interpolate import interp1d\n",
    "from scipy.integrate import trapz\n",
    "\n",
    "# misc\n",
    "import warnings"
   ]
  },
  {
   "cell_type": "markdown",
   "metadata": {
    "_uuid": "2ec2411d62cc8cbef9ce226e083edbffcfad23ee"
   },
   "source": [
    "### Settings"
   ]
  },
  {
   "cell_type": "code",
   "execution_count": null,
   "metadata": {
    "_uuid": "32abfb0ff24d991846b7d68159789e7c960acf29"
   },
   "outputs": [],
   "source": [
    "# style settings\n",
    "sns.set(style='whitegrid', rc={'axes.facecolor': '#EFF2F7'})\n",
    "\n",
    "# sample frequency for ECG sensor\n",
    "settings = {}\n",
    "settings['fs'] = 500"
   ]
  },
  {
   "cell_type": "markdown",
   "metadata": {
    "_uuid": "2825d3cbbf41a8e52e203fbd59636936b87ab628"
   },
   "source": [
    "### Load data"
   ]
  },
  {
   "cell_type": "code",
   "execution_count": null,
   "metadata": {
    "_uuid": "a037c06a636f764caa28490aca1c349dbe9edd51"
   },
   "outputs": [],
   "source": [
    "# data recorded with the ECG sensor\n",
    "df = pd.read_csv(\"../input/sample-ecg-data/ecg.csv\", sep=\";\", index_col=\"ms\")"
   ]
  },
  {
   "cell_type": "markdown",
   "metadata": {
    "_uuid": "4a186e9aac704430477237f9978a15d82d32c4f4"
   },
   "source": [
    "Using an ECG sensor, I recorded 5 minutes of my own heart rate, while laying down in a park next my office ☀️, and it worked! Let’s have a look:"
   ]
  },
  {
   "cell_type": "code",
   "execution_count": null,
   "metadata": {
    "_uuid": "d9cf81997a8216004cdd03cecc8e2652b525e8a2"
   },
   "outputs": [],
   "source": [
    "plt.figure(figsize=(20, 7))\n",
    "start = 0\n",
    "stop = 5000\n",
    "duration = (stop-start) / settings['fs']\n",
    "plt.title(\"ECG signal, slice of %.1f seconds\" % duration)\n",
    "plt.plot(df[start:stop].index, df[start:stop].heartrate, color=\"#51A6D8\", linewidth=1)\n",
    "plt.xlabel(\"Time (ms)\", fontsize=16)\n",
    "plt.ylabel(\"Amplitude (arbitrary unit)\")\n",
    "plt.show()"
   ]
  },
  {
   "cell_type": "markdown",
   "metadata": {
    "_uuid": "dad0955b52844a335303c43ac6f3e14201bfa69b"
   },
   "source": [
    "This seems like a clean ECG signal and I suppose finding peaks won’t be much of a problem. This ECG sensor returns values as a [arbitrary units](https://en.wikipedia.org/wiki/Arbitrary_unit), so these are not real voltages. We should take just interest in the relative values. \n",
    "\n",
    "Let’s find out how we can find the peaks."
   ]
  },
  {
   "cell_type": "markdown",
   "metadata": {
    "_uuid": "4ee76309168010bec82ff387b74f0d9acb3a9fb9"
   },
   "source": [
    "### Peak detection using template matching\n",
    "\n",
    "*There are a [myriad](https://scholar.google.nl/scholar?as_sdt=1,5&q=peak+detection+ECG&hl=nl&as_ylo=2018) of different QRS detectors. Most of those consists of two stages:*\n",
    "\n",
    "* **Stage 1 — Signal transformation\n",
    "**Construct a signal that maximises the features of interest, in our case this is the QRS-complex.\n",
    "\n",
    "* **Stage 2 — Decision rule \n",
    "**Use a threshold to separate the desired features from the rest of the signal\n",
    "\n",
    "A lot of peak detectors use a very neat trick for transforming the signal (stage 1) and I found it worth diving into that. It’s called [template matching](https://en.wikipedia.org/wiki/Template_matching).\n",
    "\n",
    "Template matching is widely used in pattern recognition, for example in [particle analysis](https://www.ncbi.nlm.nih.gov/pubmed/15065671), cryptanalysis, [computer vision](https://www.researchgate.net/publication/272496016_Template_Matching_Techniques_in_Computer_Vision_Theory_and_Practice) and [computational neuroscience](https://www.hindawi.com/journals/cin/2014/919406/). It’s an elegant and powerful technique that uses a filter (also known as template or kernel), that contains a **specific feature** and use that filter to find this feature in a larger signal.\n",
    "\n",
    "![Cross-correlation is a measure of the similarity between two signals (image taken from [Giphy](https://media.giphy.com/media/VVPKOXc6aY1Lq/source.gif))](https://cdn-images-1.medium.com/max/2000/1*mWsGTGVdAsy6KoF3n3MyLA.gif)\n",
    "\n",
    "Basic idea is to slide the filter along a signal and compute the [cross-correlation](https://en.wikipedia.org/wiki/Cross-correlation) between the filter and the signal. If the filter matches a part of the signal closely, there is a strong correlation, which is another way of saying this part of the signal looks a lot like the feature in the filter. By setting a threshold (stage 2), you are able to find features you’re interested in.\n",
    ">  Cross-correlation is often referred to as **convolution**, which is a slightly different operation where the filter is reversed f(t) -› f(-t) before sliding it along the signal. Convolutional Neural Networks should actually be named Cross-correlation Networks, but i guess that didn’t make it through the marketing department :-)\n",
    "\n",
    "In images you could use this technique to find horizontal or vertical edges by designing specific filters. Convolutional Networks take this approach even further and learn filters that are relevant for certain classes automatically using back propagation.\n",
    "\n",
    "*Allright, so template matching seems great. Lets see how we can use it to find some RR-intervals!*"
   ]
  },
  {
   "cell_type": "code",
   "execution_count": null,
   "metadata": {
    "_uuid": "766fc734b87e7defcb4a1221a9d9b0d8ea15640c"
   },
   "outputs": [],
   "source": [
    "def detect_peaks(ecg_signal, threshold=0.3, qrs_filter=None):\n",
    "    '''\n",
    "    Peak detection algorithm using cross corrrelation and threshold \n",
    "    '''\n",
    "    if qrs_filter is None:\n",
    "        # create default qrs filter, which is just a part of the sine function\n",
    "        t = np.linspace(1.5 * np.pi, 3.5 * np.pi, 15)\n",
    "        qrs_filter = np.sin(t)\n",
    "    \n",
    "    # normalize data\n",
    "    ecg_signal = (ecg_signal - ecg_signal.mean()) / ecg_signal.std()\n",
    "\n",
    "    # calculate cross correlation\n",
    "    similarity = np.correlate(ecg_signal, qrs_filter, mode=\"same\")\n",
    "    similarity = similarity / np.max(similarity)\n",
    "\n",
    "    # return peaks (values in ms) using threshold\n",
    "    return ecg_signal[similarity > threshold].index, similarity"
   ]
  },
  {
   "cell_type": "code",
   "execution_count": null,
   "metadata": {
    "_uuid": "aa36c5c3f3a9b580090a27db8e20a04b243787ab"
   },
   "outputs": [],
   "source": [
    "def get_plot_ranges(start=10, end=20, n=5):\n",
    "    '''\n",
    "    Make an iterator that divides into n or n+1 ranges. \n",
    "    - if end-start is divisible by steps, return n ranges\n",
    "    - if end-start is not divisible by steps, return n+1 ranges, where the last range is smaller and ends at n\n",
    "    \n",
    "    # Example:\n",
    "    >> list(get_plot_ranges())\n",
    "    >> [(0.0, 3.0), (3.0, 6.0), (6.0, 9.0)]\n",
    "\n",
    "    '''\n",
    "    distance = end - start\n",
    "    for i in np.arange(start, end, np.floor(distance/n)):\n",
    "        yield (int(i), int(np.minimum(end, np.floor(distance/n) + i)))"
   ]
  },
  {
   "cell_type": "code",
   "execution_count": null,
   "metadata": {
    "_uuid": "be2eac172819e397eb45abac693bd8c3b483b370"
   },
   "outputs": [],
   "source": [
    "sampfrom = 60000\n",
    "sampto = 70000\n",
    "nr_plots = 1\n",
    "\n",
    "for start, stop in get_plot_ranges(sampfrom, sampto, nr_plots):\n",
    "    # get slice data of ECG data\n",
    "    cond_slice = (df.index >= start) & (df.index < stop) \n",
    "    ecg_slice = df.heartrate[cond_slice]\n",
    "\n",
    "    # detect peaks\n",
    "    peaks, similarity = detect_peaks(ecg_slice, threshold=0.3)\n",
    "    \n",
    "    # plot similarity\n",
    "    plt.figure(figsize=(20, 15))\n",
    "\n",
    "    plt.subplot(211)\n",
    "    plt.title(\"ECG signal with found peaks\")\n",
    "    plt.plot(ecg_slice.index, ecg_slice, label=\"ECG\", color=\"#51A6D8\", linewidth=1)\n",
    "    plt.plot(peaks, np.repeat(600, peaks.shape[0]), label=\"peaks\", color=\"orange\", marker=\"o\", linestyle=\"None\")\n",
    "    plt.legend(loc=\"upper right\")\n",
    "    plt.xlabel(\"Time (milliseconds)\")\n",
    "    plt.ylabel(\"Amplitude (arbitrary unit)\")\n",
    "    \n",
    "    plt.subplot(212)\n",
    "    plt.title('Similarity with QRS template')\n",
    "    plt.plot(ecg_slice.index, similarity, label=\"Similarity with QRS filter\", color=\"olive\", linewidth=1)\n",
    "    plt.legend(loc=\"upper right\")\n",
    "    plt.xlabel(\"Time (milliseconds)\")\n",
    "    plt.ylabel(\"Similarity (normalized)\")\n",
    "    "
   ]
  },
  {
   "cell_type": "markdown",
   "metadata": {
    "_uuid": "7cb6bde9cfafdba62d2edb37a122dfa46a10d60e"
   },
   "source": [
    "What’s interesting, is that there are some rather suppressed R-peaks that still have a large similarity (around 66.000 ms). If we would just use thresholding on the original signal, we’d definitely miss those peaks. Template matching **amplifies** the peaks, so it separates the features from the rest. In stage 2 we can pick these up with a threshold.\n",
    "\n",
    "Now, as template for the peak, I just used a sine wave, which is a very simplified model for a QRS segment. Ideally, we come up with a filter that generalises well over all sorts of variants we might encounter in the world.\n",
    "\n",
    "This makes me wonder if we could find such a “mother of all (normal) QRS segments” using labeled ECG data automatically. As I mentioned earlier, this should be possible using Convolutional Networks. \n",
    "\n",
    "After all, in my humble dataset this simplified QRS filter works quite well, so I’ll just use it to extract the RR-intervals."
   ]
  },
  {
   "cell_type": "markdown",
   "metadata": {
    "_uuid": "b50b5b609392a6ed47effef87afe335ca8d30688"
   },
   "source": [
    "### Group similar peaks\n",
    "\n",
    "When using thresholding to extract the peaks, there are still multiple samples found for a single peak. To get single a value for each peak, I'll group the samples that are very near."
   ]
  },
  {
   "cell_type": "code",
   "execution_count": null,
   "metadata": {
    "_uuid": "bb15f2cbf5138dfe29c5a6d0ab7f661897874c62"
   },
   "outputs": [],
   "source": [
    "def group_peaks(p, threshold=5):\n",
    "    '''\n",
    "    The peak detection algorithm finds multiple peaks for each QRS complex. \n",
    "    Here we group collections of peaks that are very near (within threshold) and we take the median index \n",
    "    '''\n",
    "    # initialize output\n",
    "    output = np.empty(0)\n",
    "\n",
    "    # label groups of sample that belong to the same peak\n",
    "    peak_groups, num_groups = label(np.diff(p) < threshold)\n",
    "\n",
    "    # iterate through groups and take the mean as peak index\n",
    "    for i in np.unique(peak_groups)[1:]:\n",
    "        peak_group = p[np.where(peak_groups == i)]\n",
    "        output = np.append(output, np.median(peak_group))\n",
    "    return output"
   ]
  },
  {
   "cell_type": "code",
   "execution_count": null,
   "metadata": {
    "_uuid": "f8a4b9d35c060a4f404f509702c1dac9552b3ec0"
   },
   "outputs": [],
   "source": [
    "# detect peaks\n",
    "peaks, similarity = detect_peaks(df.heartrate, threshold=0.3)\n",
    "\n",
    "# group peaks\n",
    "grouped_peaks = group_peaks(peaks)\n",
    "\n",
    "# plot peaks\n",
    "plt.figure(figsize=(20, 7))\n",
    "plt.title(\"Group similar peaks together\")\n",
    "plt.plot(df.index, df.heartrate, label=\"ECG\", color=\"#51A6D8\", linewidth=2)\n",
    "plt.plot(peaks, np.repeat(600, peaks.shape[0]),label=\"samples above threshold (found peaks)\", color=\"orange\", marker=\"o\", linestyle=\"None\")\n",
    "plt.plot(grouped_peaks, np.repeat(620, grouped_peaks.shape[0]), label=\"median of found peaks\", color=\"k\", marker=\"v\", linestyle=\"None\")\n",
    "plt.legend(loc=\"upper right\")\n",
    "plt.xlabel(\"Time (ms)\")\n",
    "plt.ylabel(\"Amplitude (arbitrary unit)\")\n",
    "plt.gca().set_xlim(0, 200)\n",
    "plt.show()"
   ]
  },
  {
   "cell_type": "markdown",
   "metadata": {
    "_uuid": "4f161c44d66364c32067d741ea84844178705066"
   },
   "source": [
    "### RR intervals: difference between successive peaks"
   ]
  },
  {
   "cell_type": "code",
   "execution_count": null,
   "metadata": {
    "_uuid": "a988b14253a9eb841ec08e9557435536c9708fcb"
   },
   "outputs": [],
   "source": [
    "# detect peaks\n",
    "peaks, similarity = detect_peaks(df.heartrate, threshold=0.3)\n",
    "\n",
    "# group peaks so we get a single peak per beat (hopefully)\n",
    "grouped_peaks = group_peaks(peaks)\n",
    "\n",
    "# RR-intervals are the differences between successive peaks\n",
    "rr = np.diff(grouped_peaks)\n",
    "\n",
    "# plot RR-intervals\n",
    "plt.figure(figsize=(20, 7))\n",
    "plt.title(\"RR-intervals\")\n",
    "plt.xlabel(\"Time (ms)\")\n",
    "plt.ylabel(\"RR-interval (ms)\")\n",
    "\n",
    "plt.plot(np.cumsum(rr), rr, label=\"RR-interval\", color=\"#A651D8\")\n",
    "plt.show()"
   ]
  },
  {
   "cell_type": "markdown",
   "metadata": {
    "_uuid": "c29800d10ed0acde144a3a78058329a0baf490ac"
   },
   "source": [
    "From this plot, we can see that the average RR-intervals is around 850 ms, which is about 70 BPM. We also see a couple of outliers, so I guess the peak detection is not flawless after all. When the detection algorithm misses a peak, some intervals are very large (around twice the mean). Some peaks are found very near two each other, and in that case the RR-intervals are very short."
   ]
  },
  {
   "cell_type": "markdown",
   "metadata": {
    "_uuid": "d85803d21a9fd19e76e72e5c616291765247190a"
   },
   "source": [
    "### Error correction\n",
    "\n",
    "If there is only a small amount of errors, we can correct them. There are different ways to correct the errors, and as a first attempt I replaced the outliers with the median value of the RR-intervals. For this, I use the [zscore](https://nl.wikipedia.org/wiki/Z-score), which is a metric for the **distance between a value and the mean of a distribution**, measured in standard deviations. By selecting RR-intervals with an absolute zscore larger than 2, we find the outliers and we can correct these by setting it to the median value.\n"
   ]
  },
  {
   "cell_type": "code",
   "execution_count": null,
   "metadata": {
    "_uuid": "92af661258cb904c6697931e81137980ad482aa5"
   },
   "outputs": [],
   "source": [
    "plt.figure(figsize=(20, 7))\n",
    "plt.title(\"Distribution of RR-intervals\")\n",
    "\n",
    "with warnings.catch_warnings():\n",
    "    warnings.simplefilter(\"ignore\") # ignore FutureWarning \n",
    "    sns.kdeplot(rr, label=\"rr-intervals\", color=\"#A651D8\", shade=True)\n",
    "\n",
    "outlier_low = np.mean(rr) - 2 * np.std(rr)\n",
    "outlier_high = np.mean(rr) + 2 * np.std(rr)\n",
    "\n",
    "plt.axvline(x=outlier_low)\n",
    "plt.axvline(x=outlier_high, label=\"outlier boundary\")\n",
    "plt.text(outlier_low - 370, 0.004, \"outliers low (< mean - 2 sigma)\")\n",
    "plt.text(outlier_high + 20, 0.004, \"outliers high (> mean + 2 sigma)\")\n",
    "\n",
    "plt.xlabel(\"RR-interval (ms)\")\n",
    "plt.ylabel(\"Density\")\n",
    "\n",
    "plt.legend()\n",
    "plt.show()"
   ]
  },
  {
   "cell_type": "code",
   "execution_count": null,
   "metadata": {
    "_uuid": "96f688920e3d8f64b8cd684e5c957752135fa746"
   },
   "outputs": [],
   "source": [
    "plt.figure(figsize=(20, 7))\n",
    "\n",
    "rr_corrected = rr.copy()\n",
    "rr_corrected[np.abs(zscore(rr)) > 2] = np.median(rr)\n",
    "\n",
    "plt.title(\"RR-intervals\")\n",
    "plt.xlabel(\"Time (ms)\")\n",
    "plt.ylabel(\"RR-interval (ms)\")\n",
    "\n",
    "plt.plot(rr, color=\"red\", label=\"RR-intervals\")\n",
    "plt.plot(rr_corrected, color=\"green\",  label=\"RR-intervals after correction\")\n",
    "plt.legend()\n",
    "plt.show()"
   ]
  },
  {
   "cell_type": "markdown",
   "metadata": {
    "_uuid": "d43279b662b17d0b00d0bfe0bbafbbf85a9f6a24"
   },
   "source": [
    "Downside of this approach is that the timings are no longer precise. For anl HRV analysis, this doesn’t have to be a big issue, but because I want to plot the RR-intervals on top of the ECG data, the alignment needs to be exact. Therefore, I corrected the errors manually as well."
   ]
  },
  {
   "cell_type": "markdown",
   "metadata": {
    "_uuid": "06ffb2a827f6c02109f9e19043a34e35fc7ee92a"
   },
   "source": [
    "### Load manually corrected rr-values"
   ]
  },
  {
   "cell_type": "code",
   "execution_count": null,
   "metadata": {
    "_uuid": "5a873a09df5b052c55756d3cb9ab2fb7ed39cde9"
   },
   "outputs": [],
   "source": [
    "rr_manual = np.loadtxt(\"../input/manually-corrected-rrintervals/manual-correction-rr.txt\", dtype=int)"
   ]
  },
  {
   "cell_type": "markdown",
   "metadata": {
    "_uuid": "4a48bab2762196b1f09f187443f3a1001b3c9db4"
   },
   "source": [
    "### Plot ECG signal with RR intervals"
   ]
  },
  {
   "cell_type": "code",
   "execution_count": null,
   "metadata": {
    "_uuid": "a0d19071be684a8093ced4b6cbe58665d4116e4b"
   },
   "outputs": [],
   "source": [
    "sampfrom = 240000\n",
    "sampto = 250000\n",
    "nr_plots = 1\n",
    "\n",
    "# detect peaks\n",
    "peaks, similarity = detect_peaks(df.heartrate, threshold=0.3)\n",
    "\n",
    "# group peaks so we get a single peak per beat (hopefully)\n",
    "grouped_peaks = group_peaks(peaks)\n",
    "\n",
    "# RR-intervals are the differences between successive peaks\n",
    "rr = np.diff(grouped_peaks)\n",
    "\n",
    "for start, stop in get_plot_ranges(sampfrom, sampto, nr_plots):\n",
    "    # plot similarity\n",
    "    plt.figure(figsize=(20, 10))\n",
    "\n",
    "    plt.title(\"ECG signal & RR-intervals\")\n",
    "    plt.plot(df.index, df.heartrate, label=\"ECG\", color=\"#51A6D8\", linewidth=1)\n",
    "    plt.plot(grouped_peaks, np.repeat(600, grouped_peaks.shape[0]), markersize=10, label=\"Found peaks\", color=\"orange\", marker=\"o\", linestyle=\"None\")\n",
    "    plt.legend(loc=\"upper left\")\n",
    "    plt.xlabel(\"Time (milliseconds)\", fontsize=16)\n",
    "    plt.ylabel(\"Amplitude (arbitrary unit)\", fontsize=16)\n",
    "    plt.gca().set_ylim(400, 800)\n",
    "    \n",
    "    ax2 = plt.gca().twinx()\n",
    "    ax2.plot(np.cumsum(rr_manual)+peaks[0], rr_manual, label=\"Corrected RR-intervals\", fillstyle=\"none\", color=\"#A651D8\", markeredgewidth=1, marker=\"o\", markersize=12)\n",
    "    ax2.plot(np.cumsum(rr)+peaks[0], rr, label=\"RR-intervals\", color=\"k\", linewidth=2, marker=\".\", markersize=8)\n",
    "    \n",
    "    ax2.set_xlim(start, stop)\n",
    "    ax2.set_ylim(-2000, 2000)\n",
    "    ax2.legend(loc=\"upper right\")\n",
    "    plt.xlabel(\"Time (ms)\")\n",
    "    plt.ylabel(\"RR-interval (ms)\")"
   ]
  },
  {
   "cell_type": "markdown",
   "metadata": {
    "_uuid": "c72d6e64c508afb898ac91522699a712e7131354"
   },
   "source": [
    "## Time domain analysis"
   ]
  },
  {
   "cell_type": "markdown",
   "metadata": {
    "_uuid": "247ddd9f61a295bc8ab519a37e667562c88761c1"
   },
   "source": [
    "Time domain methods use RR-intervals and measure a whole range of metrics, that have something to say about the variability. These metrics were standardised in a [special report of the Task Force of ESC/NASPE](https://academic.oup.com/eurheartj/article/17/3/354/485572) in 1996.\n",
    "\n",
    "![Differences between successive RR-intervals](https://cdn-images-1.medium.com/max/3448/1*AKiF2Ht_r8V3IAOJowFIJQ.png)\n",
    "\n",
    "**RMSSD** \n",
    "\n",
    "The most popular HRV metric is the Root Mean Square of Successive Differences or RMSSD. ****It’s a measure for how much variation there exists in the heart rate. In a healthy heart, there is a natural variation, which is due to a balance between the sympathetic nervous system (SNS) and parasympathetic parts (PSNS) of the Autonomous Nervous System. If your body experiences stress, then the sympathetic system will activate, to prepare for fight or flight behaviour, and your heartrate will increase. The parasympathetic controls your body’s “rest and digest” responses and is associated with recovery. Parasympathetic activation conserves energy, constricts pupils, aids digestion, and slows your heart rate. These two parts of the nervous system are normally in a healthy balance, causing a natural variation in heart. If this balance is disturbed for any reason, this variance will change. A lower RMSSD is associated with stress and various illnesses.\n",
    "\n",
    "**Other metrics**\n",
    "\n",
    "RMSSD is often used as the score that represents your “HRV”. It’s the most important one and it’s used in a lot of research. Here’s a list of other metrics, that are used for time domain analysis:\n",
    "\n",
    "* **Mean RR**: mean of RR-interval\n",
    "\n",
    "* **SDNN: **standard deviation of the RR-intervals\n",
    "\n",
    "* **Mean HR**: the well-known mean heartrate, measured in Beats Per Minute\n",
    "\n",
    "* **STD HR**: standard deviation of the heartrate\n",
    "\n",
    "* **Min HR**: lowest heartrate\n",
    "\n",
    "* **Max HR**: highest heartrate\n",
    "\n",
    "* **NN50**: The number of pairs of successive RR-intervals that differ by more than 50 ms. *(normal RR-intervals are often called NN-intervals)*\n",
    "\n",
    "* **PNN50**: The proportion of NN50 divided by the total number of RR-intervals."
   ]
  },
  {
   "cell_type": "code",
   "execution_count": null,
   "metadata": {
    "_uuid": "6e6d552abd28434a299e0f94a17dadbf5ad08ac4"
   },
   "outputs": [],
   "source": [
    "def timedomain(rr):\n",
    "    results = {}\n",
    "\n",
    "    hr = 60000/rr\n",
    "    \n",
    "    results['Mean RR (ms)'] = np.mean(rr)\n",
    "    results['STD RR/SDNN (ms)'] = np.std(rr)\n",
    "    results['Mean HR (Kubios\\' style) (beats/min)'] = 60000/np.mean(rr)\n",
    "    results['Mean HR (beats/min)'] = np.mean(hr)\n",
    "    results['STD HR (beats/min)'] = np.std(hr)\n",
    "    results['Min HR (beats/min)'] = np.min(hr)\n",
    "    results['Max HR (beats/min)'] = np.max(hr)\n",
    "    results['RMSSD (ms)'] = np.sqrt(np.mean(np.square(np.diff(rr))))\n",
    "    results['NNxx'] = np.sum(np.abs(np.diff(rr)) > 50)*1\n",
    "    results['pNNxx (%)'] = 100 * np.sum((np.abs(np.diff(rr)) > 50)*1) / len(rr)\n",
    "    return results"
   ]
  },
  {
   "cell_type": "code",
   "execution_count": null,
   "metadata": {
    "_uuid": "868a1c230f3c5fcb3a21570e83c3f68a7a52a0fd"
   },
   "outputs": [],
   "source": [
    "print(\"Time domain metrics - automatically corrected RR-intervals:\")\n",
    "for k, v in timedomain(rr).items():\n",
    "    print(\"- %s: %.2f\" % (k, v))\n",
    "\n",
    "print()\n",
    "print(\"Time domain metrics - manually corrected RR-intervals:\")\n",
    "for k, v in timedomain(rr_manual).items():\n",
    "    print(\"- %s: %.2f\" % (k, v))"
   ]
  },
  {
   "cell_type": "markdown",
   "metadata": {
    "_uuid": "4cb3ec2973904b24e723b57372909cefa80253bf"
   },
   "source": [
    "## Frequency domain analysis\n",
    "\n",
    "Another approach for analysing heart rate variability is to study the power distribution in the frequency domain. It shows how much of signal lies within a certain frequency band. High (HF) frequencies between 0.15–0.40 Hz are associated with Parasympathetic activity (recovery) and lower frequencies (LF) between 0.04–0.15 Hz are linked to both sympathetic and parasympathetic activity. The ratio of LF/HF is believed to be a measure for the Autonomic Nervous System balance. A higher HF and a lower LF/HF ratio indicate an increased HRV, which means your body is recovering.\n",
    "\n",
    "*Let’s get to it and do a frequency domain analysis on our data.*\n"
   ]
  },
  {
   "cell_type": "markdown",
   "metadata": {
    "_uuid": "23f4ef73af903aa1328247ba9bbe3e22f9bb3cb4"
   },
   "source": [
    "### Interpolation\n",
    "\n",
    "We can’t just use the RR-intervals and do a Fourier Transform, because an FFT needs evenly sampled data. We can achieve this by interpolating the data. To interpolate, we first transform our list with RR-intervals to a time series were we arrange RR-intervals over time. To find the time points for each interval, we sum up the values of the RR-intervals. Next, we create an interpolation function that we can use to sample from with any resolution we want. We use a resolution of 4 samples per second. Now we can create an evenly spaced set of datapoints that we can use for the frequency analysis.\n"
   ]
  },
  {
   "cell_type": "code",
   "execution_count": null,
   "metadata": {
    "_uuid": "d74c329ed076bddb2039e676e7dc1629baf71e11"
   },
   "outputs": [],
   "source": [
    "# create interpolation function based on the rr-samples. \n",
    "x = np.cumsum(rr_manual) / 1000.0\n",
    "f = interp1d(x, rr_manual, kind='cubic')"
   ]
  },
  {
   "cell_type": "code",
   "execution_count": null,
   "metadata": {
    "_uuid": "d74c329ed076bddb2039e676e7dc1629baf71e11"
   },
   "outputs": [],
   "source": [
    "# sample rate for interpolation\n",
    "fs = 4.0\n",
    "steps = 1 / fs\n",
    "\n",
    "# now we can sample from interpolation function\n",
    "xx = np.arange(1, np.max(x), steps)\n",
    "rr_interpolated = f(xx)"
   ]
  },
  {
   "cell_type": "code",
   "execution_count": null,
   "metadata": {
    "_uuid": "c004f613b2503c608d0f5fcf9f04794e642f30b6"
   },
   "outputs": [],
   "source": [
    "plt.figure(figsize=(20, 15))\n",
    "\n",
    "plt.subplot(211)\n",
    "plt.title(\"RR intervals\")\n",
    "plt.plot(x, rr_manual, color=\"k\", markerfacecolor=\"#A651D8\", markeredgewidth=0, marker=\"o\", markersize=8)\n",
    "plt.xlabel(\"Time (s)\")\n",
    "plt.ylabel(\"RR-interval (ms)\")\n",
    "plt.title(\"Interpolated\")\n",
    "plt.gca().set_xlim(0, 20)\n",
    "\n",
    "plt.subplot(212)\n",
    "plt.title(\"RR-Intervals (cubic interpolation)\")\n",
    "plt.plot(xx, rr_interpolated, color=\"k\", markerfacecolor=\"#51A6D8\", markeredgewidth=0, marker=\"o\", markersize=8)\n",
    "plt.gca().set_xlim(0, 20)\n",
    "plt.xlabel(\"Time (s)\")\n",
    "plt.ylabel(\"RR-interval (ms)\")\n",
    "plt.show()"
   ]
  },
  {
   "cell_type": "code",
   "execution_count": null,
   "metadata": {
    "_uuid": "206cea2abe20dccb2ac9a1ad7a098f5053d8790a"
   },
   "outputs": [],
   "source": [
    "def frequency_domain(rri, fs=4):\n",
    "    # Estimate the spectral density using Welch's method\n",
    "    fxx, pxx = signal.welch(x=rr_interpolated, fs=fs)\n",
    "    \n",
    "    '''\n",
    "    Segement found frequencies in the bands \n",
    "     - Very Low Frequency (VLF): 0-0.04Hz \n",
    "     - Low Frequency (LF): 0.04-0.15Hz \n",
    "     - High Frequency (HF): 0.15-0.4Hz\n",
    "    '''\n",
    "    cond_vlf = (fxx >= 0) & (fxx < 0.04)\n",
    "    cond_lf = (fxx >= 0.04) & (fxx < 0.15)\n",
    "    cond_hf = (fxx >= 0.15) & (fxx < 0.4)\n",
    "    \n",
    "    # calculate power in each band by integrating the spectral density \n",
    "    vlf = trapz(pxx[cond_vlf], fxx[cond_vlf])\n",
    "    lf = trapz(pxx[cond_lf], fxx[cond_lf])\n",
    "    hf = trapz(pxx[cond_hf], fxx[cond_hf])\n",
    "    \n",
    "    # sum these up to get total power\n",
    "    total_power = vlf + lf + hf\n",
    "\n",
    "    # find which frequency has the most power in each band\n",
    "    peak_vlf = fxx[cond_vlf][np.argmax(pxx[cond_vlf])]\n",
    "    peak_lf = fxx[cond_lf][np.argmax(pxx[cond_lf])]\n",
    "    peak_hf = fxx[cond_hf][np.argmax(pxx[cond_hf])]\n",
    "\n",
    "    # fraction of lf and hf\n",
    "    lf_nu = 100 * lf / (lf + hf)\n",
    "    hf_nu = 100 * hf / (lf + hf)\n",
    "    \n",
    "    results = {}\n",
    "    results['Power VLF (ms2)'] = vlf\n",
    "    results['Power LF (ms2)'] = lf\n",
    "    results['Power HF (ms2)'] = hf   \n",
    "    results['Power Total (ms2)'] = total_power\n",
    "\n",
    "    results['LF/HF'] = (lf/hf)\n",
    "    results['Peak VLF (Hz)'] = peak_vlf\n",
    "    results['Peak LF (Hz)'] = peak_lf\n",
    "    results['Peak HF (Hz)'] = peak_hf\n",
    "\n",
    "    results['Fraction LF (nu)'] = lf_nu\n",
    "    results['Fraction HF (nu)'] = hf_nu\n",
    "    return results, fxx, pxx"
   ]
  },
  {
   "cell_type": "code",
   "execution_count": null,
   "metadata": {
    "_uuid": "0dedfa9a920256149bfc1a53ceace88b049e97c7"
   },
   "outputs": [],
   "source": [
    "print(\"Frequency domain metrics:\")\n",
    "results, fxx, pxx = frequency_domain(rr_interpolated)\n",
    "\n",
    "for k, v in results.items():\n",
    "    print(\"- %s: %.2f\" % (k, v))"
   ]
  },
  {
   "cell_type": "markdown",
   "metadata": {
    "_uuid": "148fe1ccc85eccf2da67c92a5a8dcdc7306f2bd2"
   },
   "source": [
    "### Welch periodogram"
   ]
  },
  {
   "cell_type": "code",
   "execution_count": null,
   "metadata": {
    "_uuid": "557b29224bf95c8197179b2077adb6efad331ca2"
   },
   "outputs": [],
   "source": [
    "plt.figure(figsize=(20, 7))\n",
    "plt.plot(fxx, pxx, color=\"k\", linewidth=0.3)\n",
    "plt.title(\"FFT Spectrum (Welch's periodogram)\")\n",
    "\n",
    "# create interpolation function for plotting frequency bands\n",
    "psd_f = interp1d(fxx, pxx)\n",
    "\n",
    "# setup frequency bands for plotting\n",
    "x_vlf = np.linspace(0, 0.04, 100)\n",
    "x_lf = np.linspace(0.04, 0.15, 100)\n",
    "x_hf = np.linspace(0.15, 0.4, 100)\n",
    "\n",
    "plt.gca().fill_between(x_vlf, psd_f(x_vlf), alpha=0.2, color=\"#A651D8\", label=\"VLF\")\n",
    "plt.gca().fill_between(x_lf, psd_f(x_lf), alpha=0.2, color=\"#51A6D8\", label=\"LF\")\n",
    "plt.gca().fill_between(x_hf, psd_f(x_hf), alpha=0.2, color=\"#D8A651\", label=\"HF\")\n",
    "\n",
    "plt.gca().set_xlim(0, 0.5)\n",
    "plt.gca().set_ylim(0)\n",
    "plt.xlabel(\"Frequency (Hz)\")\n",
    "plt.ylabel(\"Density\")\n",
    "plt.legend()\n",
    "plt.show()"
   ]
  },
  {
   "cell_type": "markdown",
   "metadata": {
    "_uuid": "662b9b4dfa8d474ad1e33fc7791d614e5072e7cd"
   },
   "source": [
    "## Non linear methods\n",
    "\n",
    "### Poincare plot\n",
    "\n",
    "In Poincaré HRV each RR interval is plotted against the next RR interval. The resulting shape of the plot is the essential feature, and can be used to identify certain types of heart failures and illnesses, is can be seen in this example.\n",
    "\n",
    "<img src=\"https://i.ibb.co/3pFYDYV/poincare-example.png\" alt=\"effects of illness and age on geometry of poincare plot\" style=\"width:600px;\"/>"
   ]
  },
  {
   "cell_type": "code",
   "execution_count": null,
   "metadata": {
    "_uuid": "6760b360cd5a0ddf1359e258d7dfcff590b737e0"
   },
   "outputs": [],
   "source": [
    "def plot_poincare(rr):\n",
    "    rr_n = rr[:-1]\n",
    "    rr_n1 = rr[1:]\n",
    "\n",
    "    sd1 = np.sqrt(0.5) * np.std(rr_n1 - rr_n)\n",
    "    sd2 = np.sqrt(0.5) * np.std(rr_n1 + rr_n)\n",
    "\n",
    "    m = np.mean(rr)\n",
    "    min_rr = np.min(rr)\n",
    "    max_rr = np.max(rr)\n",
    "    \n",
    "    plt.figure(figsize=(10, 10))\n",
    "    plt.title(\"Poincare plot\")\n",
    "\n",
    "    sns.scatterplot(x=rr_n, y=rr_n1, color=\"#51A6D8\")\n",
    "\n",
    "    plt.xlabel(r'$RR_n (ms)$')\n",
    "    plt.ylabel(r'$RR_{n+1} (ms)$')\n",
    "\n",
    "    e1 = Ellipse((m, m), 2*sd1, 2*sd2, angle=-45, linewidth=1.2, fill=False, color=\"k\")\n",
    "    plt.gca().add_patch(e1)\n",
    "\n",
    "    plt.arrow(m, m, (max_rr-min_rr)*0.4, (max_rr-min_rr)*0.4, color=\"k\", linewidth=0.8, head_width=5, head_length=5)\n",
    "    plt.arrow(m, m, (min_rr-max_rr)*0.4, (max_rr-min_rr)*0.4, color=\"k\", linewidth=0.8, head_width=5, head_length=5)\n",
    "\n",
    "    plt.arrow(m, m, sd2 * np.sqrt(0.5), sd2 * np.sqrt(0.5), color=\"green\", linewidth=5)\n",
    "    plt.arrow(m, m, -sd1 * np.sqrt(0.5), sd1 * np.sqrt(0.5), color=\"red\", linewidth=5)\n",
    "\n",
    "    plt.text(max_rr, max_rr, \"SD2\", fontsize=20, color=\"green\")\n",
    "    plt.text(m-(max_rr-min_rr)*0.4-20, max_rr, \"SD1\", fontsize=20, color=\"red\")\n",
    "    \n",
    "    return sd1, sd2\n",
    "\n",
    "sd1, sd2 = plot_poincare(rr_manual)\n",
    "print(\"SD1: %.3f ms\" % sd1)\n",
    "print(\"SD2: %.3f ms\" % sd2)"
   ]
  },
  {
   "cell_type": "markdown",
   "metadata": {
    "_uuid": "3587124c67ea8cfd6dd6a5d67a678867b74b48c0"
   },
   "source": [
    "### Conclusion"
   ]
  },
  {
   "cell_type": "markdown",
   "metadata": {
    "_uuid": "111f2bb056c8b257576d659ce148ddddaaae49f9"
   },
   "source": [
    "In this kernel, I focussed on deriving HRV from a raw ECG signal and I’ve learned a great deal:\n",
    "\n",
    "* Diving into template matching was great fun. Previous learnings when studying convolutional networks just got new meaning, and I learned how to create my own personal peak detection algorithm, yay!\n",
    "* I just love plotting with matplotlib and seaborn. You always learn a great deal when you try to create meaningful plots.\n",
    "* I learned that there are still many things left to explore. Most importantly, what say about the physiological state if we measure HRV? How can we use HRV in practice as an indicator for stress or illnesses? \n",
    "\n",
    "I hope you found this kernel useful and if you have any questions of comments please let me know! You can find the blogpost on this topic on [Medium](https://blog.orikami.nl/exploring-heart-rate-variability-using-python-483a7037c64d).\n",
    "\n",
    "Cheers,\n",
    "\n",
    "Salomon Tetelepta\n"
   ]
  }
 ],
 "metadata": {
  "kernelspec": {
   "display_name": "Python 3 (ipykernel)",
   "language": "python",
   "name": "python3"
  },
  "language_info": {
   "codemirror_mode": {
    "name": "ipython",
    "version": 3
   },
   "file_extension": ".py",
   "mimetype": "text/x-python",
   "name": "python",
   "nbconvert_exporter": "python",
   "pygments_lexer": "ipython3",
   "version": "3.8.8"
  }
 },
 "nbformat": 4,
 "nbformat_minor": 1
}
