{
 "cells": [
  {
   "cell_type": "code",
   "execution_count": 1,
   "id": "db41e057",
   "metadata": {},
   "outputs": [],
   "source": [
    "from keras.layers import Dense,Conv2D,MaxPooling2D,UpSampling2D\n",
    "from keras import Input, Model\n",
    "from keras.datasets import mnist\n",
    "import wfdb\n",
    "from wfdb import processing\n",
    "import numpy as np\n",
    "from IPython.display import display\n",
    "import matplotlib.pyplot as plt\n",
    "import pandas as pd\n",
    "from scipy import signal\n",
    "from sklearn.decomposition import PCA\n",
    "import tensorflow as tf\n",
    "tf.config.run_functions_eagerly(True)\n",
    "%matplotlib inline"
   ]
  },
  {
   "cell_type": "code",
   "execution_count": 6,
   "id": "06415d1f",
   "metadata": {},
   "outputs": [],
   "source": [
    "record_number = '05091'\n",
    "filepath = 'D:/phd/mit-bih-atrial-fibrillation-database-1.0.0/files/' + record_number\n",
    "record = wfdb.rdrecord(filepath)#, sampto = 10000) \n",
    "annotation = wfdb.rdann(filepath,'atr', shift_samps=True)#, sampto = 10000)"
   ]
  },
  {
   "cell_type": "code",
   "execution_count": 7,
   "id": "0d5ccda7",
   "metadata": {},
   "outputs": [],
   "source": [
    "sig = record.p_signal[:,0]\n",
    "sig_peaks, _ = signal.find_peaks(sig)\n",
    "t = []\n",
    "for i in sig_peaks:\n",
    "    if sig[i] > 0.25:\n",
    "        t.append(i)\n",
    "s = []\n",
    "\n",
    "\n",
    "for i in t:\n",
    "    r = wfdb.rdrecord(filepath, sampfrom=i-100, sampto=i+100)\n",
    "    s.append(r.p_signal[:,0])"
   ]
  },
  {
   "cell_type": "code",
   "execution_count": 8,
   "id": "e4f46b96",
   "metadata": {},
   "outputs": [],
   "source": [
    "encoding_dim = 64 \n",
    "input_img = Input(shape=(200,))\n",
    "# encoded representation of input\n",
    "encoded = Dense(encoding_dim, activation='relu')(input_img)\n",
    "# decoded representation of code \n",
    "decoded = Dense(200, activation='sigmoid')(encoded)\n",
    "# Model which take input image and shows decoded images\n",
    "autoencoder = Model(input_img, decoded)"
   ]
  },
  {
   "cell_type": "code",
   "execution_count": 9,
   "id": "1f73e48a",
   "metadata": {},
   "outputs": [],
   "source": [
    "# This model shows encoded images\n",
    "encoder = Model(input_img, encoded)\n",
    "# Creating a decoder model\n",
    "encoded_input = Input(shape=(encoding_dim,))\n",
    "# last layer of the autoencoder model\n",
    "decoder_layer = autoencoder.layers[-1]\n",
    "# decoder model\n",
    "decoder = Model(encoded_input, decoder_layer(encoded_input))"
   ]
  },
  {
   "cell_type": "code",
   "execution_count": 10,
   "id": "eb5cfd32",
   "metadata": {},
   "outputs": [],
   "source": [
    "autoencoder.compile(optimizer='adam', loss='binary_crossentropy')"
   ]
  },
  {
   "cell_type": "code",
   "execution_count": 11,
   "id": "1eea5f21",
   "metadata": {},
   "outputs": [
    {
     "name": "stderr",
     "output_type": "stream",
     "text": [
      "C:\\Users\\houfo\\anaconda3\\lib\\site-packages\\tensorflow\\python\\data\\ops\\structured_function.py:264: UserWarning: Even though the `tf.config.experimental_run_functions_eagerly` option is set, this option does not apply to tf.data functions. To force eager execution of tf.data functions, please use `tf.data.experimental.enable_debug_mode()`.\n",
      "  warnings.warn(\n"
     ]
    },
    {
     "name": "stdout",
     "output_type": "stream",
     "text": [
      "Epoch 1/15\n",
      "1207/1207 [==============================] - 54s 44ms/step - loss: -720.6014\n",
      "Epoch 2/15\n",
      "1207/1207 [==============================] - 57s 47ms/step - loss: -4725.4995\n",
      "Epoch 3/15\n",
      "1207/1207 [==============================] - 57s 47ms/step - loss: -11820.2080\n",
      "Epoch 4/15\n",
      "1207/1207 [==============================] - 53s 44ms/step - loss: -21577.5430\n",
      "Epoch 5/15\n",
      "1207/1207 [==============================] - 52s 43ms/step - loss: -33630.7969\n",
      "Epoch 6/15\n",
      "1207/1207 [==============================] - 54s 44ms/step - loss: -47803.8359\n",
      "Epoch 7/15\n",
      "1207/1207 [==============================] - 50s 41ms/step - loss: -64118.3945\n",
      "Epoch 8/15\n",
      "1207/1207 [==============================] - 49s 41ms/step - loss: -82527.7344\n",
      "Epoch 9/15\n",
      "1207/1207 [==============================] - 56s 47ms/step - loss: -102917.3672\n",
      "Epoch 10/15\n",
      "1207/1207 [==============================] - 50s 41ms/step - loss: -125294.5547\n",
      "Epoch 11/15\n",
      "1207/1207 [==============================] - 48s 40ms/step - loss: -149494.6562\n",
      "Epoch 12/15\n",
      "1207/1207 [==============================] - 52s 43ms/step - loss: -175827.7344\n",
      "Epoch 13/15\n",
      "1207/1207 [==============================] - 51s 42ms/step - loss: -204302.4219\n",
      "Epoch 14/15\n",
      "1207/1207 [==============================] - 52s 43ms/step - loss: -234922.2969\n",
      "Epoch 15/15\n",
      "1207/1207 [==============================] - 53s 44ms/step - loss: -267466.0625\n"
     ]
    },
    {
     "data": {
      "text/plain": [
       "<keras.callbacks.History at 0x2358d798ee0>"
      ]
     },
     "execution_count": 11,
     "metadata": {},
     "output_type": "execute_result"
    }
   ],
   "source": [
    "m = np.array(s)\n",
    "autoencoder.fit(m, m, epochs=15, batch_size=256)"
   ]
  },
  {
   "cell_type": "code",
   "execution_count": 4,
   "id": "b4443558",
   "metadata": {},
   "outputs": [],
   "source": [
    "def process_row(record_number):\n",
    "    filepath = 'D:/phd/mit-bih-atrial-fibrillation-database-1.0.0/files/' + record_number\n",
    "    record = wfdb.rdrecord(filepath)#, sampto = 10000)\n",
    "    ann = wfdb.rdann(filepath,'atr')\n",
    "    sig = record.p_signal[:,0]\n",
    "    sig_peaks, _ = processing.find_peaks(sig)\n",
    "    t = []\n",
    "    for i in sig_peaks:\n",
    "        if sig[i] > 0.25:\n",
    "            t.append(i)\n",
    "    s = []\n",
    "    annIndexes = []\n",
    "    for i in range(len(sig_peaks)):\n",
    "        val = sig_peaks[i]\n",
    "        if val < 100 or val+100 > len(sig):\n",
    "            continue\n",
    "        r = wfdb.rdrecord(filepath, sampfrom=val-100, sampto=val+100)\n",
    "        for j in ann.sample:\n",
    "            if val-100 < j and val + 100 > j:\n",
    "                annIndexes.append(i)\n",
    "                s.append(r.p_signal[:,0])\n",
    "                break\n",
    "        \n",
    "    \n",
    "    pca = PCA(n_components=2)\n",
    "    principalComponents = pca.fit_transform(s)\n",
    "    principalDf = pd.DataFrame(data = principalComponents, columns = ['principal component 1', 'principal component 2'])\n",
    "    principalDf[\"color\"] = \"blue\"\n",
    "    #principalDf.loc[annIndexes, \"color\"] = \"red\"\n",
    "    addInfo = \"\"\n",
    "    if len(annIndexes) == 0:\n",
    "        addInfo = \"empty\"\n",
    "    principalDf.plot(x ='principal component 1', y='principal component 2', alpha=0.5, kind = 'scatter', title = \"Record = \"+record_number + \" \" + addInfo, color=principalDf[\"color\"])"
   ]
  },
  {
   "cell_type": "code",
   "execution_count": null,
   "id": "f26a13b8",
   "metadata": {},
   "outputs": [
    {
     "name": "stdout",
     "output_type": "stream",
     "text": [
      "04015\n",
      "04043\n",
      "04048\n",
      "04126\n"
     ]
    }
   ],
   "source": [
    "a = [\n",
    "'04015',\n",
    "'04043',\n",
    "'04048',\n",
    "'04126',\n",
    "'04746',\n",
    "'04908',\n",
    "'04936',\n",
    "'05091',\n",
    "'05121',\n",
    "'05261',\n",
    "'06426',\n",
    "'06453',\n",
    "'06995',\n",
    "'07162',\n",
    "'07859',\n",
    "'07879',\n",
    "'07910',\n",
    "'08215',\n",
    "'08219',\n",
    "'08378',\n",
    "'08405',\n",
    "'08434',\n",
    "'08455',\n",
    "]\n",
    "for row in a:\n",
    "    print(row)\n",
    "    process_row(row)\n",
    "        "
   ]
  },
  {
   "cell_type": "code",
   "execution_count": null,
   "id": "705d1929",
   "metadata": {},
   "outputs": [],
   "source": [
    "# Example below can be useful in the feature, for result validation"
   ]
  },
  {
   "cell_type": "code",
   "execution_count": null,
   "id": "37661964",
   "metadata": {},
   "outputs": [],
   "source": [
    "# Use xqrs detection algorithm and compare against reference annotations\n",
    "sig, fields = wfdb.rdsamp('../input/bidmc-congestive-heart-failure/files/chf03', channels=[0], sampto=15000)\n",
    "ann_ref = wfdb.rdann('../input/bidmc-congestive-heart-failure/files/chf03','ecg', sampto=15000)\n",
    "\n",
    "# Run qrs detection on signal\n",
    "xqrs = processing.XQRS(sig=sig[:,0], fs=fields['fs'])\n",
    "xqrs.detect()\n",
    "# Alternatively, use the gateway function to get the qrs indices directly\n",
    "# qrs_inds = processing.xqrs_detect(sig=sig[:,0], fs=fields['fs'])\n",
    "\n",
    "# Compare detected qrs complexes to reference annotation.\n",
    "# Note, first sample in 100.atr is not a qrs.\n",
    "comparitor = processing.compare_annotations(ref_sample=ann_ref.sample[1:],\n",
    "                                            test_sample=xqrs.qrs_inds,\n",
    "                                            window_width=int(0.1 * fields['fs']),\n",
    "                                            signal=sig[:,0])\n"
   ]
  },
  {
   "cell_type": "code",
   "execution_count": 18,
   "id": "ea278ba9",
   "metadata": {},
   "outputs": [
    {
     "name": "stdout",
     "output_type": "stream",
     "text": [
      "1/1 [==============================] - 0s 28ms/step\n"
     ]
    },
    {
     "data": {
      "text/plain": [
       "array([[0., 0., 0., 0., 0., 0., 0., 0., 0., 0., 0., 0., 0., 0., 0., 0.,\n",
       "        0., 0., 0., 0., 0., 0., 0., 0., 0., 0., 0., 0., 0., 0., 0., 0.,\n",
       "        0., 0., 0., 0., 0., 0., 0., 0., 0., 0., 0., 0., 0., 0., 0., 0.,\n",
       "        0., 0., 0., 0., 0., 0., 0., 0., 0., 0., 0., 0., 0., 0., 0., 0.,\n",
       "        0., 0., 0., 0., 0., 0., 0., 0., 0., 0., 0., 0., 0., 0., 0., 0.,\n",
       "        0., 0., 0., 0., 0., 0., 0., 0., 0., 0., 0., 0., 0., 0., 0., 0.,\n",
       "        0., 0., 0., 0., 0., 0., 0., 0., 0., 0., 0., 0., 0., 0., 0., 0.,\n",
       "        0., 0., 0., 0., 0., 0., 0., 0., 0., 0., 0., 0., 0., 0., 0., 0.,\n",
       "        0., 0., 0., 0., 0., 0., 0., 0., 0., 0., 0., 0., 0., 0., 0., 0.,\n",
       "        0., 0., 0., 0., 0., 0., 0., 0., 0., 0., 0., 0., 0., 0., 0., 0.,\n",
       "        0., 0., 0., 0., 0., 0., 0., 0., 0., 0., 0., 0., 0., 0., 0., 0.,\n",
       "        0., 0., 0., 0., 0., 0., 0., 0., 0., 0., 0., 0., 0., 0., 0., 0.,\n",
       "        0., 0., 0., 0., 0., 0., 0., 0.]], dtype=float32)"
      ]
     },
     "execution_count": 18,
     "metadata": {},
     "output_type": "execute_result"
    }
   ],
   "source": [
    "p = np.array(s[25])\n",
    "autoencoder.predict(p.reshape(1,-1))"
   ]
  },
  {
   "cell_type": "code",
   "execution_count": 15,
   "id": "7fd553ae",
   "metadata": {},
   "outputs": [
    {
     "data": {
      "text/plain": [
       "array([[ 0.005,  0.03 ,  0.005,  0.005, -0.015, -0.035, -0.025, -0.01 ,\n",
       "        -0.005, -0.01 ,  0.01 ,  0.015, -0.01 , -0.01 , -0.025, -0.035,\n",
       "        -0.03 , -0.015, -0.03 , -0.04 ,  0.   ,  0.005,  0.005,  0.   ,\n",
       "         0.015, -0.02 , -0.025, -0.035, -0.015, -0.02 , -0.02 , -0.02 ,\n",
       "        -0.01 ,  0.005,  0.005, -0.005, -0.005, -0.005, -0.025, -0.02 ,\n",
       "        -0.01 , -0.02 ,  0.   ,  0.015,  0.015,  0.035,  0.03 ,  0.03 ,\n",
       "         0.05 ,  0.01 , -0.01 ,  0.   ,  0.02 ,  0.065,  0.07 ,  0.095,\n",
       "         0.09 ,  0.15 ,  0.15 ,  0.135,  0.125,  0.125,  0.14 ,  0.15 ,\n",
       "         0.145,  0.155,  0.135,  0.135,  0.1  ,  0.055,  0.04 ,  0.045,\n",
       "         0.025,  0.02 ,  0.02 ,  0.   ,  0.01 ,  0.02 ,  0.   ,  0.01 ,\n",
       "         0.   ,  0.   , -0.005, -0.035, -0.04 , -0.02 , -0.005,  0.   ,\n",
       "         0.   ,  0.03 ,  0.02 ,  0.025,  0.015,  0.005,  0.065,  0.16 ,\n",
       "         0.25 ,  0.33 ,  0.49 ,  0.68 ,  0.775,  0.675,  0.445,  0.03 ,\n",
       "        -0.425, -0.815, -1.11 , -1.15 , -0.905, -0.66 , -0.49 , -0.315,\n",
       "        -0.18 , -0.065, -0.02 ,  0.   ,  0.015,  0.02 ,  0.005,  0.01 ,\n",
       "         0.01 ,  0.025,  0.025,  0.06 ,  0.065,  0.06 ,  0.025,  0.06 ,\n",
       "         0.025,  0.02 ,  0.015,  0.015,  0.015,  0.045,  0.05 ,  0.065,\n",
       "         0.07 ,  0.055,  0.04 ,  0.04 ,  0.04 ,  0.035,  0.01 ,  0.02 ,\n",
       "         0.03 ,  0.035,  0.06 ,  0.07 ,  0.085,  0.05 ,  0.05 ,  0.045,\n",
       "         0.05 ,  0.045,  0.015,  0.025,  0.05 ,  0.095,  0.08 ,  0.08 ,\n",
       "         0.07 ,  0.07 ,  0.05 ,  0.06 ,  0.045,  0.055,  0.05 ,  0.045,\n",
       "         0.05 ,  0.07 ,  0.055,  0.06 ,  0.035,  0.015,  0.03 ,  0.015,\n",
       "         0.025,  0.005,  0.   ,  0.01 ,  0.02 ,  0.035,  0.03 ,  0.025,\n",
       "         0.01 ,  0.005,  0.   ,  0.   , -0.005,  0.   ,  0.01 ,  0.035,\n",
       "         0.045,  0.03 ,  0.015, -0.005, -0.01 , -0.005, -0.01 , -0.015]])"
      ]
     },
     "execution_count": 15,
     "metadata": {},
     "output_type": "execute_result"
    }
   ],
   "source": [
    "p.reshape(1,-1)"
   ]
  },
  {
   "cell_type": "code",
   "execution_count": null,
   "id": "fd60d897",
   "metadata": {},
   "outputs": [],
   "source": []
  }
 ],
 "metadata": {
  "kernelspec": {
   "display_name": "Python 3 (ipykernel)",
   "language": "python",
   "name": "python3"
  },
  "language_info": {
   "codemirror_mode": {
    "name": "ipython",
    "version": 3
   },
   "file_extension": ".py",
   "mimetype": "text/x-python",
   "name": "python",
   "nbconvert_exporter": "python",
   "pygments_lexer": "ipython3",
   "version": "3.8.8"
  }
 },
 "nbformat": 4,
 "nbformat_minor": 5
}
